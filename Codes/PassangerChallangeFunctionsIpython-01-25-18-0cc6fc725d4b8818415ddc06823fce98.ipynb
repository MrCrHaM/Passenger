{
 "cells": [
  {
   "cell_type": "code",
   "execution_count": 4,
   "metadata": {
    "collapsed": true
   },
   "outputs": [],
   "source": [
    "import re\n",
    "import matplotlib.pyplot as plt\n",
    "import numpy as np\n",
    "from scipy.sparse.linalg import bicgstab\n",
    "from scipy import sparse\n",
    "import Reader as rd\n",
    "from glob import glob\n",
    "import matplotlib.patches as patches\n",
    "import pandas as pd\n",
    "import math\n",
    "from scipy.misc import imread\n",
    "import bcolz\n",
    "\n",
    "import os"
   ]
  },
  {
   "cell_type": "markdown",
   "metadata": {},
   "source": [
    "#### Methods"
   ]
  },
  {
   "cell_type": "markdown",
   "metadata": {},
   "source": [
    "$normalization = v^{T}Dv$"
   ]
  },
  {
   "cell_type": "markdown",
   "metadata": {},
   "source": [
    "$correlation = \\frac{(v^{T}Ds)^2} {normalization}$"
   ]
  },
  {
   "cell_type": "markdown",
   "metadata": {},
   "source": [
    "$score = \\frac{v^{T}Lv}{normalization}$"
   ]
  },
  {
   "cell_type": "code",
   "execution_count": 8,
   "metadata": {
    "collapsed": true
   },
   "outputs": [],
   "source": [
    "def e_neighbour_graph(img, e):\n",
    "    array = np.array(img)\n",
    "    rowN = np.shape(array)[0]\n",
    "    colN = np.shape(array)[1]\n",
    "    result = np.zeros((rowN * colN, rowN * colN))\n",
    "    for row in range(rowN):\n",
    "        for col in range(colN):\n",
    "            for rowDiff in range(-e, e + 1, 1):\n",
    "                for colDiff in range(-e, e + 1, 1):\n",
    "                    if(row + rowDiff < rowN and -1 < row + rowDiff and col + colDiff < colN and -1 < col + colDiff):\n",
    "                        if(rowDiff * rowDiff + colDiff * colDiff <= e * e):\n",
    "                            result[row * colN + col][(row + rowDiff) * colN + (col + colDiff)] = 1\n",
    "    return result\n",
    "\n",
    "\n",
    "def fully_connected_graph(img, sigma):\n",
    "    array = np.array(img)\n",
    "    rowN = np.shape(array)[0]\n",
    "    colN = np.shape(array)[1]\n",
    "    result = np.zeros((rowN * colN, rowN * colN))\n",
    "    for row in range(rowN):\n",
    "        for col in range(colN):\n",
    "            for row2 in range(rowN):\n",
    "                for col2 in range(colN):\n",
    "                    weight = math.exp(- math.pow(img[row][col] - img[row2][col2], 2) / (2 * math.pow(sigma, 2)))\n",
    "                    result[row * colN + col][row2 * colN + col2] = weight\n",
    "    return result\n",
    "\n",
    "\n",
    "def fully_connected_e_neighbour_graph(img, sigma, e):\n",
    "    array = np.array(img)\n",
    "    rowN = np.shape(array)[0]\n",
    "    colN = np.shape(array)[1]\n",
    "    result = np.zeros((rowN * colN, rowN * colN))\n",
    "    for row in range(rowN):\n",
    "        for col in range(colN):\n",
    "            for rowDiff in range(-e, e + 1, 1):\n",
    "                for colDiff in range(-e, e + 1, 1):\n",
    "                    # Avoid self edges\n",
    "                    if rowDiff == 0 and colDiff == 0:\n",
    "                        continue\n",
    "                    if(row + rowDiff < rowN and -1 < row + rowDiff and col + colDiff < colN and -1 < col + colDiff):\n",
    "                        if(rowDiff * rowDiff + colDiff * colDiff <= e * e):\n",
    "                            row2 = row + rowDiff\n",
    "                            col2 = col + colDiff\n",
    "                            weight = math.exp(- math.pow(img[row][col] - img[row2][col2], 2) / (2 * math.pow(sigma, 2)))\n",
    "                            result[row * colN + col][row2 * colN + col2] = weight\n",
    "    # Convert it to sparse matrix\n",
    "    # TODO: Direct initialization as sparse matrix is better\n",
    "    return sparse.csr_matrix(result)\n",
    "\n",
    "def laplacian(graph):\n",
    "    # diag = np.diag(sum(graph))\n",
    "    diag = sparse.diags((sum(graph)).toarray()[0], 0)\n",
    "    lap = diag - graph\n",
    "    return [lap, diag]\n",
    "\n",
    "\n",
    "def orthogonalize(diag, s):\n",
    "    nodeNum = diag.shape[0]\n",
    "    # p = np.ones((nodeNum, 1)) / pow(sum(np.diag(np.diag(sum(diag)))), .5)\n",
    "    p = np.ones((nodeNum, 1)) / pow(sum(diag.diagonal()), .5)\n",
    "    # projection = np.dot(np.transpose(s), np.dot(diag, p))\n",
    "    projection = np.dot(np.transpose(s), diag.dot(p))\n",
    "    v = s - projection[0][0] * p\n",
    "    # return [v, projection]\n",
    "    return v\n",
    "\n",
    "\n",
    "def PRwalk(graph, alpha, s):\n",
    "    if alpha < 0:\n",
    "        print('Error: alpha must be positive!')\n",
    "        return -1\n",
    "    # nodeNum = len(graph)\n",
    "    nodeNum = graph.shape[0]\n",
    "    [L, D] = laplacian(graph)\n",
    "    s = orthogonalize(D, s)\n",
    "    # v, flag = bicgstab((L + alpha * D), np.dot(D, s),tol=1e-3, maxiter=nodeNum)\n",
    "\n",
    "    v, flag = bicgstab((L + alpha * D).toarray(), D.dot(s),tol=1e-3, maxiter=nodeNum)\n",
    "    \n",
    "    \n",
    "    v = np.reshape(v, (len(v), 1))\n",
    "\n",
    "    v = orthogonalize(D, v)\n",
    "    return v\n",
    "\n",
    "def PRobjective(graph, seed, myImg, e):\n",
    "    \n",
    "    [L, D] = laplacian(graph)\n",
    "    s = orthogonalize(D, seed)\n",
    "    s = normalize(D, s)\n",
    "    # print('Threshold: ' + str(1 / len(graph)))\n",
    "    print('Threshold: ' + str(1 / graph.shape[0]))\n",
    "    alphaList = []    \n",
    "    correlationList = []\n",
    "    scoreList = []\n",
    "    valueList = []\n",
    "    minCondList = []\n",
    "    minCondIndexList = []\n",
    "    \n",
    "    exponential = -14\n",
    "    # correlation = 1 / len(graph) + 1 # to get into loop\n",
    "    correlation = 1 / graph.shape[0] + 1 # to get into loop\n",
    "    \n",
    "    MAXITER = 11\n",
    "    # MINITER = 4\n",
    "    for i in range(MAXITER):\n",
    "        # if correlation > 1 / len(graph):\n",
    "        oldCorrelation = correlation\n",
    "        exponential -= 1\n",
    "        alpha = 2 ** exponential\n",
    "        v = PRwalk(graph, alpha, s)\n",
    "        # normalization = (np.dot(np.dot(np.transpose(v), D), v))[0][0]\n",
    "        normalization = (np.dot(np.transpose(D.dot(v)), v))[0][0]\n",
    "        \n",
    "        # correlation = \\\n",
    "        #     (np.dot(np.dot(np.dot(np.transpose(v), D), s), np.dot(np.dot(np.transpose(v), D), s)) / normalization)[0][0]\n",
    "        correlation = \\\n",
    "        pow(np.dot(np.transpose(D.dot(v)), s)[0][0], 2) / normalization        \n",
    "        \n",
    "        # score = ((np.dot(np.dot(np.transpose(v), L), v)) / normalization)[0][0]\n",
    "        score = (np.dot(np.transpose(L.dot(v)), v) / normalization)[0][0]\n",
    "        \n",
    "        print('--')\n",
    "        print('alpha: 2^' + str(exponential))\n",
    "        print('Correlation: ' + str(correlation))\n",
    "        print('Score: ' + str(score))\n",
    "        \n",
    "        [minCond, minCondIndex] = sweepCut(v, D, e, myImg)\n",
    "        \n",
    "        print('Heatmap:\\n')\n",
    "        heat = np.zeros(myImg.shape)\n",
    "        for ii in range(myImg.shape[0]):\n",
    "            for jj in range(myImg.shape[1]):\n",
    "                heat[ii][jj] = v[ii * myImg.shape[1] + jj]    \n",
    "        plt.imshow(heat, cmap='hot', interpolation='nearest')\n",
    "        plt.show()\n",
    "        \n",
    "        # if i == MINITER:\n",
    "        #    print('**')\n",
    "        #    print('Starting correlation decrease check!')\n",
    "\n",
    "        # if i >= MINITER and oldCorrelation * .99 < correlation:\n",
    "        #    break\n",
    "\n",
    "        alphaList.append(alpha)\n",
    "        correlationList.append(correlation)\n",
    "        scoreList.append(score)\n",
    "        valueList.append(v)\n",
    "        minCondList.append(minCond)\n",
    "        minCondIndexList.append(minCondIndex)\n",
    "            \n",
    "    print('****')\n",
    "    plt.plot(correlationList, scoreList, 'r*--')\n",
    "    plt.xlabel('Correlation')\n",
    "    plt.ylabel('Score')\n",
    "    plt.show()\n",
    "    \n",
    "    return [alphaList, correlationList, scoreList, valueList, minCondList, minCondIndex]\n",
    "\n",
    "def sweepCut(v, D, e, myImg):\n",
    "    \n",
    "    sortedArgsValues = np.argsort(v[:,0])[::-1]\n",
    "\n",
    "    # row: int(np.argsort(value[:,0])[::-1][0] / myImg.shape[1])\n",
    "    # col: np.argsort(value[:,0])[::-1][0] - int(np.argsort(value[:,0])[::-1][0] / myImg.shape[1]) * myImg.shape[1]\n",
    "\n",
    "    # ASSUMPTION: Consider first len(graph) / 6 points in sweep cut\n",
    "    \n",
    "    minCond = float('inf')\n",
    "    minCondIndex = -1\n",
    "    numerator = 0\n",
    "    denominator = 0\n",
    "    for j in range(int(graph.shape[0] / 6)):\n",
    "    # for j in range(1):\n",
    "        # Add jth index of sortedArgsValues to the cut\n",
    "        point = sortedArgsValues[j]\n",
    "        \n",
    "        row = int(point / myImg.shape[1])\n",
    "        col = point - int(point / myImg.shape[1]) * myImg.shape[1]\n",
    "        for rowDiff in range(-e, e + 1, 1):\n",
    "            for colDiff in range(-e, e + 1, 1):\n",
    "                # Avoid self edges\n",
    "                if rowDiff == 0 and colDiff == 0:\n",
    "                    continue\n",
    "                if(row + rowDiff < myImg.shape[0] and -1 < row + rowDiff and col + colDiff < myImg.shape[1] and -1 < col + colDiff):\n",
    "                    if(rowDiff * rowDiff + colDiff * colDiff <= e * e):\n",
    "                        row2 = row + rowDiff\n",
    "                        col2 = col + colDiff\n",
    "                        weight = math.exp(- math.pow(myImg[row][col] - myImg[row2][col2], 2) / (2 * math.pow(sigma, 2)))\n",
    "                        # Subtract the weights of added point with the cut\n",
    "                        if (v[:,0][row2 * myImg.shape[1] + col2] > v[:,0][point]):\n",
    "                            numerator -= weight\n",
    "                        # Add the weights of added point with the rest\n",
    "                        else:\n",
    "                            numerator += weight\n",
    "                        # Add the degree of the added point    \n",
    "                        denominator += weight\n",
    "        conductance = numerator / denominator\n",
    "        if conductance < minCond:\n",
    "            minCond = conductance\n",
    "            minCondIndex = j\n",
    "    print('min Conductance: ' + str(minCond))\n",
    "    print('min Conductance Size: ' + str(minCondIndex + 1))\n",
    "    \n",
    "    # Plotting cut\n",
    "    print('min Conductance cut:')\n",
    "    plt.imshow(myImg)\n",
    "    cut = np.zeros(myImg.shape)\n",
    "    for i in range(minCondIndex):\n",
    "        point = sortedArgsValues[i]\n",
    "        row = int(point / myImg.shape[1])\n",
    "        col = point - int(point / myImg.shape[1]) * myImg.shape[1]\n",
    "        cut[row][col] = 10\n",
    "    plt.imshow(cut, cmap='hot', interpolation='nearest',alpha = .5)\n",
    "    plt.show()\n",
    "    \n",
    "    return [minCond, minCondIndex]\n",
    "\n",
    "def normalize(D, s):\n",
    "    # norm = np.dot(np.dot(np.transpose(s), D), s)]\n",
    "    norm = np.dot(np.transpose(D.dot(s)), s)\n",
    "    v = s/math.sqrt(norm)\n",
    "    return v\n",
    "\n",
    "def save_array(fname, arr):\n",
    "    c = bcolz.carray(arr, rootdir=fname, mode='w')\n",
    "    c.flush()\n",
    "\n",
    "def load_array(fname):\n",
    "    return bcolz.open(fname)[:]"
   ]
  },
  {
   "cell_type": "markdown",
   "metadata": {},
   "source": [
    "#### Image"
   ]
  },
  {
   "cell_type": "code",
   "execution_count": 6,
   "metadata": {},
   "outputs": [],
   "source": [
    "# 0cc6fc725d4b8818415ddc06823fce98\n",
    "IMAGE = \"0cc6fc725d4b8818415ddc06823fce98\"\n",
    "myImg = np.asarray(imread(IMAGE + \"/\" + IMAGE + \".aps.jpg\"), dtype=np.int)\n",
    "sigma = 5\n",
    "e = 3\n",
    "graph = fully_connected_e_neighbour_graph(myImg, sigma, e)\n",
    "# 140 row, 156 columns\n",
    "seedList = ['Normalised Intensity', 'Normalised Intensity Square to between 0 1']\n",
    "for i in range(30, 111, 32):\n",
    "    for j in range(50, 111, 30):\n",
    "        seedList.append([i,j])\n",
    "alphaListList = []\n",
    "correlationListList = []\n",
    "scoreListList = []\n",
    "valueListList = []\n",
    "minCondListList = []\n",
    "minCondIndexListList = []"
   ]
  },
  {
   "cell_type": "markdown",
   "metadata": {},
   "source": [
    "#### Trying seed as normalised full image"
   ]
  },
  {
   "cell_type": "markdown",
   "metadata": {},
   "source": [
    "$seed[i] = \\frac{intensity[i]}{\\sqrt{\\sum intensity^2}}$"
   ]
  },
  {
   "cell_type": "code",
   "execution_count": 4,
   "metadata": {
    "scrolled": true
   },
   "outputs": [
    {
     "name": "stdout",
     "output_type": "stream",
     "text": [
      "Threshold: 4.578754578754579e-05\n",
      "--\n",
      "alpha: 2^-17\n",
      "Correlation: 0.823407026569\n",
      "Score: 0.000439976315699\n",
      "min Conductance: 0.0776287963091\n",
      "min Conductance Size: 3118\n",
      "Heatmap:\n",
      "\n"
     ]
    },
    {
     "data": {
      "image/png": "[encoded data removed]",
      "text/plain": [
       "<matplotlib.figure.Figure at 0x113aab9b0>"
      ]
     },
     "metadata": {},
     "output_type": "display_data"
    },
    {
     "name": "stdout",
     "output_type": "stream",
     "text": [
      "--\n",
      "alpha: 2^-18\n",
      "Correlation: 0.683421968877\n",
      "Score: 0.000363638148766\n",
      "min Conductance: 0.0777108257351\n",
      "min Conductance Size: 3119\n",
      "Heatmap:\n",
      "\n"
     ]
    },
    {
     "data": {
      "image/png": "[encoded data removed]",
      "text/plain": [
       "<matplotlib.figure.Figure at 0x3bfe76978>"
      ]
     },
     "metadata": {},
     "output_type": "display_data"
    },
    {
     "name": "stdout",
     "output_type": "stream",
     "text": [
      "--\n",
      "alpha: 2^-19\n",
      "Correlation: 0.2631420256\n",
      "Score: 0.00013821157948\n",
      "min Conductance: 0.0778849933309\n",
      "min Conductance Size: 3117\n",
      "Heatmap:\n",
      "\n"
     ]
    },
    {
     "data": {
      "image/png": "[encoded data removed]",
      "text/plain": [
       "<matplotlib.figure.Figure at 0x3bfe53588>"
      ]
     },
     "metadata": {},
     "output_type": "display_data"
    },
    {
     "name": "stdout",
     "output_type": "stream",
     "text": [
      "--\n",
      "alpha: 2^-20\n",
      "Correlation: 0.0986479255925\n",
      "Score: 5.09793527361e-05\n",
      "min Conductance: 0.0779200058487\n",
      "min Conductance Size: 3122\n",
      "Heatmap:\n",
      "\n"
     ]
    },
    {
     "data": {
      "image/png": "[encoded data removed]",
      "text/plain": [
       "<matplotlib.figure.Figure at 0x3c031f940>"
      ]
     },
     "metadata": {},
     "output_type": "display_data"
    },
    {
     "name": "stdout",
     "output_type": "stream",
     "text": [
      "--\n",
      "alpha: 2^-21\n",
      "Correlation: 0.0283636196093\n",
      "Score: 1.41682287483e-05\n",
      "min Conductance: 0.0779200058487\n",
      "min Conductance Size: 3122\n",
      "Heatmap:\n",
      "\n"
     ]
    },
    {
     "data": {
      "image/png": "[encoded data removed]",
      "text/plain": [
       "<matplotlib.figure.Figure at 0x3bfe276a0>"
      ]
     },
     "metadata": {},
     "output_type": "display_data"
    },
    {
     "name": "stdout",
     "output_type": "stream",
     "text": [
      "****\n"
     ]
    },
    {
     "data": {
      "image/png": "[encoded data removed]",
      "text/plain": [
       "<matplotlib.figure.Figure at 0x3c0281630>"
      ]
     },
     "metadata": {},
     "output_type": "display_data"
    }
   ],
   "source": [
    "# Seed initialisation\n",
    "seed = myImg.copy()\n",
    "seed = seed.reshape(myImg.shape[0] * myImg.shape[1], 1)\n",
    "seed = seed / math.sqrt(sum(sum(seed * seed)))\n",
    "\n",
    "[alphaList, correlationList, scoreList, valueList, minCondList, minCondIndexList] = PRobjective(graph, seed, myImg, e)\n",
    "\n",
    "# Saving\n",
    "alphaListList.append(alphaList)\n",
    "correlationListList.append(correlationList)\n",
    "scoreListList.append(scoreList)\n",
    "valueListList.append(valueList)\n",
    "minCondListList.append(minCondList)\n",
    "minCondIndexListList.append(minCondIndexList)"
   ]
  },
  {
   "cell_type": "markdown",
   "metadata": {},
   "source": [
    "#### Trying seed as normalised Intensity Square to between 0 and 1"
   ]
  },
  {
   "cell_type": "markdown",
   "metadata": {},
   "source": [
    "$seed[i] = \\frac{intensity[i]^2 - min(intensity^2)}{max(intensity^2) - min(intensity^2)}$"
   ]
  },
  {
   "cell_type": "code",
   "execution_count": 5,
   "metadata": {
    "scrolled": true
   },
   "outputs": [
    {
     "name": "stdout",
     "output_type": "stream",
     "text": [
      "Threshold: 4.578754578754579e-05\n"
     ]
    },
    {
     "ename": "KeyboardInterrupt",
     "evalue": "",
     "output_type": "error",
     "traceback": [
      "\u001b[0;31m---------------------------------------------------------------------------\u001b[0m",
      "\u001b[0;31mKeyboardInterrupt\u001b[0m                         Traceback (most recent call last)",
      "\u001b[0;32m<ipython-input-5-11959cd07c4f>\u001b[0m in \u001b[0;36m<module>\u001b[0;34m()\u001b[0m\n\u001b[1;32m      5\u001b[0m \u001b[0mseed\u001b[0m \u001b[0;34m=\u001b[0m \u001b[0;34m(\u001b[0m\u001b[0mseed\u001b[0m \u001b[0;34m-\u001b[0m \u001b[0mmin\u001b[0m\u001b[0;34m(\u001b[0m\u001b[0mseed\u001b[0m\u001b[0;34m)\u001b[0m\u001b[0;34m)\u001b[0m \u001b[0;34m/\u001b[0m \u001b[0;34m(\u001b[0m\u001b[0mmax\u001b[0m\u001b[0;34m(\u001b[0m\u001b[0mseed\u001b[0m\u001b[0;34m)\u001b[0m \u001b[0;34m-\u001b[0m \u001b[0mmin\u001b[0m\u001b[0;34m(\u001b[0m\u001b[0mseed\u001b[0m\u001b[0;34m)\u001b[0m\u001b[0;34m)\u001b[0m\u001b[0;34m\u001b[0m\u001b[0m\n\u001b[1;32m      6\u001b[0m \u001b[0;34m\u001b[0m\u001b[0m\n\u001b[0;32m----> 7\u001b[0;31m \u001b[0;34m[\u001b[0m\u001b[0malphaList\u001b[0m\u001b[0;34m,\u001b[0m \u001b[0mcorrelationList\u001b[0m\u001b[0;34m,\u001b[0m \u001b[0mscoreList\u001b[0m\u001b[0;34m,\u001b[0m \u001b[0mvalueList\u001b[0m\u001b[0;34m,\u001b[0m \u001b[0mminCondList\u001b[0m\u001b[0;34m,\u001b[0m \u001b[0mminCondIndexList\u001b[0m\u001b[0;34m]\u001b[0m \u001b[0;34m=\u001b[0m \u001b[0mPRobjective\u001b[0m\u001b[0;34m(\u001b[0m\u001b[0mgraph\u001b[0m\u001b[0;34m,\u001b[0m \u001b[0mseed\u001b[0m\u001b[0;34m,\u001b[0m \u001b[0mmyImg\u001b[0m\u001b[0;34m)\u001b[0m\u001b[0;34m\u001b[0m\u001b[0m\n\u001b[0m\u001b[1;32m      8\u001b[0m \u001b[0;34m\u001b[0m\u001b[0m\n\u001b[1;32m      9\u001b[0m \u001b[0;31m# Saving\u001b[0m\u001b[0;34m\u001b[0m\u001b[0;34m\u001b[0m\u001b[0m\n",
      "\u001b[0;32m<ipython-input-2-c17d3b397f29>\u001b[0m in \u001b[0;36mPRobjective\u001b[0;34m(graph, seed, myImg)\u001b[0m\n\u001b[1;32m     97\u001b[0m         \u001b[0mexponential\u001b[0m \u001b[0;34m-=\u001b[0m \u001b[0;36m1\u001b[0m\u001b[0;34m\u001b[0m\u001b[0m\n\u001b[1;32m     98\u001b[0m         \u001b[0malpha\u001b[0m \u001b[0;34m=\u001b[0m \u001b[0;36m2\u001b[0m \u001b[0;34m**\u001b[0m \u001b[0mexponential\u001b[0m\u001b[0;34m\u001b[0m\u001b[0m\n\u001b[0;32m---> 99\u001b[0;31m         \u001b[0mv\u001b[0m \u001b[0;34m=\u001b[0m \u001b[0mPRwalk\u001b[0m\u001b[0;34m(\u001b[0m\u001b[0mgraph\u001b[0m\u001b[0;34m,\u001b[0m \u001b[0malpha\u001b[0m\u001b[0;34m,\u001b[0m \u001b[0ms\u001b[0m\u001b[0;34m)\u001b[0m\u001b[0;34m\u001b[0m\u001b[0m\n\u001b[0m\u001b[1;32m    100\u001b[0m         \u001b[0mnormalization\u001b[0m \u001b[0;34m=\u001b[0m \u001b[0;34m(\u001b[0m\u001b[0mnp\u001b[0m\u001b[0;34m.\u001b[0m\u001b[0mdot\u001b[0m\u001b[0;34m(\u001b[0m\u001b[0mnp\u001b[0m\u001b[0;34m.\u001b[0m\u001b[0mdot\u001b[0m\u001b[0;34m(\u001b[0m\u001b[0mnp\u001b[0m\u001b[0;34m.\u001b[0m\u001b[0mtranspose\u001b[0m\u001b[0;34m(\u001b[0m\u001b[0mv\u001b[0m\u001b[0;34m)\u001b[0m\u001b[0;34m,\u001b[0m \u001b[0mD\u001b[0m\u001b[0;34m)\u001b[0m\u001b[0;34m,\u001b[0m \u001b[0mv\u001b[0m\u001b[0;34m)\u001b[0m\u001b[0;34m)\u001b[0m\u001b[0;34m[\u001b[0m\u001b[0;36m0\u001b[0m\u001b[0;34m]\u001b[0m\u001b[0;34m[\u001b[0m\u001b[0;36m0\u001b[0m\u001b[0;34m]\u001b[0m\u001b[0;34m\u001b[0m\u001b[0m\n\u001b[1;32m    101\u001b[0m         \u001b[0mcorrelation\u001b[0m \u001b[0;34m=\u001b[0m             \u001b[0;34m(\u001b[0m\u001b[0mnp\u001b[0m\u001b[0;34m.\u001b[0m\u001b[0mdot\u001b[0m\u001b[0;34m(\u001b[0m\u001b[0mnp\u001b[0m\u001b[0;34m.\u001b[0m\u001b[0mdot\u001b[0m\u001b[0;34m(\u001b[0m\u001b[0mnp\u001b[0m\u001b[0;34m.\u001b[0m\u001b[0mdot\u001b[0m\u001b[0;34m(\u001b[0m\u001b[0mnp\u001b[0m\u001b[0;34m.\u001b[0m\u001b[0mtranspose\u001b[0m\u001b[0;34m(\u001b[0m\u001b[0mv\u001b[0m\u001b[0;34m)\u001b[0m\u001b[0;34m,\u001b[0m \u001b[0mD\u001b[0m\u001b[0;34m)\u001b[0m\u001b[0;34m,\u001b[0m \u001b[0ms\u001b[0m\u001b[0;34m)\u001b[0m\u001b[0;34m,\u001b[0m \u001b[0mnp\u001b[0m\u001b[0;34m.\u001b[0m\u001b[0mdot\u001b[0m\u001b[0;34m(\u001b[0m\u001b[0mnp\u001b[0m\u001b[0;34m.\u001b[0m\u001b[0mdot\u001b[0m\u001b[0;34m(\u001b[0m\u001b[0mnp\u001b[0m\u001b[0;34m.\u001b[0m\u001b[0mtranspose\u001b[0m\u001b[0;34m(\u001b[0m\u001b[0mv\u001b[0m\u001b[0;34m)\u001b[0m\u001b[0;34m,\u001b[0m \u001b[0mD\u001b[0m\u001b[0;34m)\u001b[0m\u001b[0;34m,\u001b[0m \u001b[0ms\u001b[0m\u001b[0;34m)\u001b[0m\u001b[0;34m)\u001b[0m \u001b[0;34m/\u001b[0m \u001b[0mnormalization\u001b[0m\u001b[0;34m)\u001b[0m\u001b[0;34m[\u001b[0m\u001b[0;36m0\u001b[0m\u001b[0;34m]\u001b[0m\u001b[0;34m[\u001b[0m\u001b[0;36m0\u001b[0m\u001b[0;34m]\u001b[0m\u001b[0;34m\u001b[0m\u001b[0m\n",
      "\u001b[0;32m<ipython-input-2-c17d3b397f29>\u001b[0m in \u001b[0;36mPRwalk\u001b[0;34m(graph, alpha, s)\u001b[0m\n\u001b[1;32m     67\u001b[0m     \u001b[0;34m[\u001b[0m\u001b[0mL\u001b[0m\u001b[0;34m,\u001b[0m \u001b[0mD\u001b[0m\u001b[0;34m]\u001b[0m \u001b[0;34m=\u001b[0m \u001b[0mlaplacian\u001b[0m\u001b[0;34m(\u001b[0m\u001b[0mgraph\u001b[0m\u001b[0;34m)\u001b[0m\u001b[0;34m\u001b[0m\u001b[0m\n\u001b[1;32m     68\u001b[0m     \u001b[0ms\u001b[0m \u001b[0;34m=\u001b[0m \u001b[0morthogonalize\u001b[0m\u001b[0;34m(\u001b[0m\u001b[0mD\u001b[0m\u001b[0;34m,\u001b[0m \u001b[0ms\u001b[0m\u001b[0;34m)\u001b[0m\u001b[0;34m\u001b[0m\u001b[0m\n\u001b[0;32m---> 69\u001b[0;31m     \u001b[0mv\u001b[0m\u001b[0;34m,\u001b[0m \u001b[0mflag\u001b[0m \u001b[0;34m=\u001b[0m \u001b[0mbicgstab\u001b[0m\u001b[0;34m(\u001b[0m\u001b[0;34m(\u001b[0m\u001b[0mL\u001b[0m \u001b[0;34m+\u001b[0m \u001b[0malpha\u001b[0m \u001b[0;34m*\u001b[0m \u001b[0mD\u001b[0m\u001b[0;34m)\u001b[0m\u001b[0;34m,\u001b[0m \u001b[0mnp\u001b[0m\u001b[0;34m.\u001b[0m\u001b[0mdot\u001b[0m\u001b[0;34m(\u001b[0m\u001b[0mD\u001b[0m\u001b[0;34m,\u001b[0m \u001b[0ms\u001b[0m\u001b[0;34m)\u001b[0m\u001b[0;34m,\u001b[0m\u001b[0mtol\u001b[0m\u001b[0;34m=\u001b[0m\u001b[0;36m1e-3\u001b[0m\u001b[0;34m,\u001b[0m \u001b[0mmaxiter\u001b[0m\u001b[0;34m=\u001b[0m\u001b[0mnodeNum\u001b[0m\u001b[0;34m)\u001b[0m\u001b[0;34m\u001b[0m\u001b[0m\n\u001b[0m\u001b[1;32m     70\u001b[0m \u001b[0;34m\u001b[0m\u001b[0m\n\u001b[1;32m     71\u001b[0m     \u001b[0mv\u001b[0m \u001b[0;34m=\u001b[0m \u001b[0mnp\u001b[0m\u001b[0;34m.\u001b[0m\u001b[0mreshape\u001b[0m\u001b[0;34m(\u001b[0m\u001b[0mv\u001b[0m\u001b[0;34m,\u001b[0m \u001b[0;34m(\u001b[0m\u001b[0mlen\u001b[0m\u001b[0;34m(\u001b[0m\u001b[0mv\u001b[0m\u001b[0;34m)\u001b[0m\u001b[0;34m,\u001b[0m \u001b[0;36m1\u001b[0m\u001b[0;34m)\u001b[0m\u001b[0;34m)\u001b[0m\u001b[0;34m\u001b[0m\u001b[0m\n",
      "\u001b[0;32m/Library/Frameworks/Python.framework/Versions/3.5/lib/python3.5/site-packages/scipy/sparse/linalg/isolve/iterative.py\u001b[0m in \u001b[0;36mbicgstab\u001b[0;34m(A, b, x0, tol, maxiter, xtype, M, callback)\u001b[0m\n",
      "\u001b[0;32m/Library/Frameworks/Python.framework/Versions/3.5/lib/python3.5/site-packages/scipy/_lib/_threadsafety.py\u001b[0m in \u001b[0;36mcaller\u001b[0;34m(func, *a, **kw)\u001b[0m\n\u001b[1;32m     44\u001b[0m         \u001b[0;32mdef\u001b[0m \u001b[0mcaller\u001b[0m\u001b[0;34m(\u001b[0m\u001b[0mfunc\u001b[0m\u001b[0;34m,\u001b[0m \u001b[0;34m*\u001b[0m\u001b[0ma\u001b[0m\u001b[0;34m,\u001b[0m \u001b[0;34m**\u001b[0m\u001b[0mkw\u001b[0m\u001b[0;34m)\u001b[0m\u001b[0;34m:\u001b[0m\u001b[0;34m\u001b[0m\u001b[0m\n\u001b[1;32m     45\u001b[0m             \u001b[0;32mwith\u001b[0m \u001b[0mself\u001b[0m\u001b[0;34m:\u001b[0m\u001b[0;34m\u001b[0m\u001b[0m\n\u001b[0;32m---> 46\u001b[0;31m                 \u001b[0;32mreturn\u001b[0m \u001b[0mfunc\u001b[0m\u001b[0;34m(\u001b[0m\u001b[0;34m*\u001b[0m\u001b[0ma\u001b[0m\u001b[0;34m,\u001b[0m \u001b[0;34m**\u001b[0m\u001b[0mkw\u001b[0m\u001b[0;34m)\u001b[0m\u001b[0;34m\u001b[0m\u001b[0m\n\u001b[0m\u001b[1;32m     47\u001b[0m         \u001b[0;32mreturn\u001b[0m \u001b[0mscipy\u001b[0m\u001b[0;34m.\u001b[0m\u001b[0m_lib\u001b[0m\u001b[0;34m.\u001b[0m\u001b[0mdecorator\u001b[0m\u001b[0;34m.\u001b[0m\u001b[0mdecorate\u001b[0m\u001b[0;34m(\u001b[0m\u001b[0mfunc\u001b[0m\u001b[0;34m,\u001b[0m \u001b[0mcaller\u001b[0m\u001b[0;34m)\u001b[0m\u001b[0;34m\u001b[0m\u001b[0m\n\u001b[1;32m     48\u001b[0m \u001b[0;34m\u001b[0m\u001b[0m\n",
      "\u001b[0;32m/Library/Frameworks/Python.framework/Versions/3.5/lib/python3.5/site-packages/scipy/sparse/linalg/isolve/iterative.py\u001b[0m in \u001b[0;36mbicgstab\u001b[0;34m(A, b, x0, tol, maxiter, xtype, M, callback)\u001b[0m\n\u001b[1;32m    185\u001b[0m         \u001b[0;32melif\u001b[0m \u001b[0;34m(\u001b[0m\u001b[0mijob\u001b[0m \u001b[0;34m==\u001b[0m \u001b[0;36m1\u001b[0m\u001b[0;34m)\u001b[0m\u001b[0;34m:\u001b[0m\u001b[0;34m\u001b[0m\u001b[0m\n\u001b[1;32m    186\u001b[0m             \u001b[0mwork\u001b[0m\u001b[0;34m[\u001b[0m\u001b[0mslice2\u001b[0m\u001b[0;34m]\u001b[0m \u001b[0;34m*=\u001b[0m \u001b[0msclr2\u001b[0m\u001b[0;34m\u001b[0m\u001b[0m\n\u001b[0;32m--> 187\u001b[0;31m             \u001b[0mwork\u001b[0m\u001b[0;34m[\u001b[0m\u001b[0mslice2\u001b[0m\u001b[0;34m]\u001b[0m \u001b[0;34m+=\u001b[0m \u001b[0msclr1\u001b[0m\u001b[0;34m*\u001b[0m\u001b[0mmatvec\u001b[0m\u001b[0;34m(\u001b[0m\u001b[0mwork\u001b[0m\u001b[0;34m[\u001b[0m\u001b[0mslice1\u001b[0m\u001b[0;34m]\u001b[0m\u001b[0;34m)\u001b[0m\u001b[0;34m\u001b[0m\u001b[0m\n\u001b[0m\u001b[1;32m    188\u001b[0m         \u001b[0;32melif\u001b[0m \u001b[0;34m(\u001b[0m\u001b[0mijob\u001b[0m \u001b[0;34m==\u001b[0m \u001b[0;36m2\u001b[0m\u001b[0;34m)\u001b[0m\u001b[0;34m:\u001b[0m\u001b[0;34m\u001b[0m\u001b[0m\n\u001b[1;32m    189\u001b[0m             \u001b[0mwork\u001b[0m\u001b[0;34m[\u001b[0m\u001b[0mslice1\u001b[0m\u001b[0;34m]\u001b[0m \u001b[0;34m=\u001b[0m \u001b[0mpsolve\u001b[0m\u001b[0;34m(\u001b[0m\u001b[0mwork\u001b[0m\u001b[0;34m[\u001b[0m\u001b[0mslice2\u001b[0m\u001b[0;34m]\u001b[0m\u001b[0;34m)\u001b[0m\u001b[0;34m\u001b[0m\u001b[0m\n",
      "\u001b[0;32m/Library/Frameworks/Python.framework/Versions/3.5/lib/python3.5/site-packages/scipy/sparse/linalg/interface.py\u001b[0m in \u001b[0;36mmatvec\u001b[0;34m(self, x)\u001b[0m\n\u001b[1;32m    217\u001b[0m             \u001b[0;32mraise\u001b[0m \u001b[0mValueError\u001b[0m\u001b[0;34m(\u001b[0m\u001b[0;34m'dimension mismatch'\u001b[0m\u001b[0;34m)\u001b[0m\u001b[0;34m\u001b[0m\u001b[0m\n\u001b[1;32m    218\u001b[0m \u001b[0;34m\u001b[0m\u001b[0m\n\u001b[0;32m--> 219\u001b[0;31m         \u001b[0my\u001b[0m \u001b[0;34m=\u001b[0m \u001b[0mself\u001b[0m\u001b[0;34m.\u001b[0m\u001b[0m_matvec\u001b[0m\u001b[0;34m(\u001b[0m\u001b[0mx\u001b[0m\u001b[0;34m)\u001b[0m\u001b[0;34m\u001b[0m\u001b[0m\n\u001b[0m\u001b[1;32m    220\u001b[0m \u001b[0;34m\u001b[0m\u001b[0m\n\u001b[1;32m    221\u001b[0m         \u001b[0;32mif\u001b[0m \u001b[0misinstance\u001b[0m\u001b[0;34m(\u001b[0m\u001b[0mx\u001b[0m\u001b[0;34m,\u001b[0m \u001b[0mnp\u001b[0m\u001b[0;34m.\u001b[0m\u001b[0mmatrix\u001b[0m\u001b[0;34m)\u001b[0m\u001b[0;34m:\u001b[0m\u001b[0;34m\u001b[0m\u001b[0m\n",
      "\u001b[0;32m/Library/Frameworks/Python.framework/Versions/3.5/lib/python3.5/site-packages/scipy/sparse/linalg/interface.py\u001b[0m in \u001b[0;36m_matvec\u001b[0;34m(self, x)\u001b[0m\n\u001b[1;32m    184\u001b[0m         \u001b[0mwill\u001b[0m \u001b[0mdefine\u001b[0m \u001b[0mmatrix\u001b[0m\u001b[0;34m-\u001b[0m\u001b[0mvector\u001b[0m \u001b[0mmultiplication\u001b[0m \u001b[0;32mas\u001b[0m \u001b[0mwell\u001b[0m\u001b[0;34m.\u001b[0m\u001b[0;34m\u001b[0m\u001b[0m\n\u001b[1;32m    185\u001b[0m         \"\"\"\n\u001b[0;32m--> 186\u001b[0;31m         \u001b[0;32mreturn\u001b[0m \u001b[0mself\u001b[0m\u001b[0;34m.\u001b[0m\u001b[0mmatmat\u001b[0m\u001b[0;34m(\u001b[0m\u001b[0mx\u001b[0m\u001b[0;34m.\u001b[0m\u001b[0mreshape\u001b[0m\u001b[0;34m(\u001b[0m\u001b[0;34m-\u001b[0m\u001b[0;36m1\u001b[0m\u001b[0;34m,\u001b[0m \u001b[0;36m1\u001b[0m\u001b[0;34m)\u001b[0m\u001b[0;34m)\u001b[0m\u001b[0;34m\u001b[0m\u001b[0m\n\u001b[0m\u001b[1;32m    187\u001b[0m \u001b[0;34m\u001b[0m\u001b[0m\n\u001b[1;32m    188\u001b[0m     \u001b[0;32mdef\u001b[0m \u001b[0mmatvec\u001b[0m\u001b[0;34m(\u001b[0m\u001b[0mself\u001b[0m\u001b[0;34m,\u001b[0m \u001b[0mx\u001b[0m\u001b[0;34m)\u001b[0m\u001b[0;34m:\u001b[0m\u001b[0;34m\u001b[0m\u001b[0m\n",
      "\u001b[0;32m/Library/Frameworks/Python.framework/Versions/3.5/lib/python3.5/site-packages/scipy/sparse/linalg/interface.py\u001b[0m in \u001b[0;36mmatmat\u001b[0;34m(self, X)\u001b[0m\n\u001b[1;32m    324\u001b[0m                              % (self.shape, X.shape))\n\u001b[1;32m    325\u001b[0m \u001b[0;34m\u001b[0m\u001b[0m\n\u001b[0;32m--> 326\u001b[0;31m         \u001b[0mY\u001b[0m \u001b[0;34m=\u001b[0m \u001b[0mself\u001b[0m\u001b[0;34m.\u001b[0m\u001b[0m_matmat\u001b[0m\u001b[0;34m(\u001b[0m\u001b[0mX\u001b[0m\u001b[0;34m)\u001b[0m\u001b[0;34m\u001b[0m\u001b[0m\n\u001b[0m\u001b[1;32m    327\u001b[0m \u001b[0;34m\u001b[0m\u001b[0m\n\u001b[1;32m    328\u001b[0m         \u001b[0;32mif\u001b[0m \u001b[0misinstance\u001b[0m\u001b[0;34m(\u001b[0m\u001b[0mY\u001b[0m\u001b[0;34m,\u001b[0m \u001b[0mnp\u001b[0m\u001b[0;34m.\u001b[0m\u001b[0mmatrix\u001b[0m\u001b[0;34m)\u001b[0m\u001b[0;34m:\u001b[0m\u001b[0;34m\u001b[0m\u001b[0m\n",
      "\u001b[0;32m/Library/Frameworks/Python.framework/Versions/3.5/lib/python3.5/site-packages/scipy/sparse/linalg/interface.py\u001b[0m in \u001b[0;36m_matmat\u001b[0;34m(self, X)\u001b[0m\n\u001b[1;32m    608\u001b[0m \u001b[0;34m\u001b[0m\u001b[0m\n\u001b[1;32m    609\u001b[0m     \u001b[0;32mdef\u001b[0m \u001b[0m_matmat\u001b[0m\u001b[0;34m(\u001b[0m\u001b[0mself\u001b[0m\u001b[0;34m,\u001b[0m \u001b[0mX\u001b[0m\u001b[0;34m)\u001b[0m\u001b[0;34m:\u001b[0m\u001b[0;34m\u001b[0m\u001b[0m\n\u001b[0;32m--> 610\u001b[0;31m         \u001b[0;32mreturn\u001b[0m \u001b[0mself\u001b[0m\u001b[0;34m.\u001b[0m\u001b[0mA\u001b[0m\u001b[0;34m.\u001b[0m\u001b[0mdot\u001b[0m\u001b[0;34m(\u001b[0m\u001b[0mX\u001b[0m\u001b[0;34m)\u001b[0m\u001b[0;34m\u001b[0m\u001b[0m\n\u001b[0m\u001b[1;32m    611\u001b[0m \u001b[0;34m\u001b[0m\u001b[0m\n\u001b[1;32m    612\u001b[0m     \u001b[0;32mdef\u001b[0m \u001b[0m_adjoint\u001b[0m\u001b[0;34m(\u001b[0m\u001b[0mself\u001b[0m\u001b[0;34m)\u001b[0m\u001b[0;34m:\u001b[0m\u001b[0;34m\u001b[0m\u001b[0m\n",
      "\u001b[0;31mKeyboardInterrupt\u001b[0m: "
     ]
    }
   ],
   "source": [
    "# Seed initialisation\n",
    "seed = myImg.copy()\n",
    "seed = seed.reshape(myImg.shape[0] * myImg.shape[1], 1)\n",
    "seed = seed * seed\n",
    "seed = (seed - min(seed)) / (max(seed) - min(seed))\n",
    "\n",
    "[alphaList, correlationList, scoreList, valueList, minCondList, minCondIndexList] = PRobjective(graph, seed, myImg, e)\n",
    "\n",
    "# Saving\n",
    "alphaListList.append(alphaList)\n",
    "correlationListList.append(correlationList)\n",
    "scoreListList.append(scoreList)\n",
    "valueListList.append(valueList)\n",
    "minCondListList.append(minCondList)\n",
    "minCondIndexListList.append(minCondIndexList)"
   ]
  },
  {
   "cell_type": "markdown",
   "metadata": {},
   "source": [
    "#### Trying seedList that is randomly taken in and outside of threat"
   ]
  },
  {
   "cell_type": "code",
   "execution_count": null,
   "metadata": {
    "collapsed": true,
    "scrolled": true
   },
   "outputs": [],
   "source": [
    "for elem in seedList[2:]:\n",
    "    print('--------Seed ' + str(elem))\n",
    "    point = elem[0] * myImg.shape[1] + elem[1]\n",
    "    seed = np.zeros((myImg.shape[0] * myImg.shape[1], 1))\n",
    "    seed[point] = 1\n",
    "    \n",
    "    [alphaList, correlationList, scoreList, valueList, minCondList, minCondIndexList] = PRobjective(graph, seed, myImg, e)\n",
    "\n",
    "\n",
    "    # Saving\n",
    "    alphaListList.append(alphaList)\n",
    "    correlationListList.append(correlationList)\n",
    "    scoreListList.append(scoreList)\n",
    "    valueListList.append(valueList)\n",
    "    minCondListList.append(minCondList)\n",
    "    minCondIndexListList.append(minCondIndexList)"
   ]
  },
  {
   "cell_type": "code",
   "execution_count": null,
   "metadata": {
    "collapsed": true
   },
   "outputs": [],
   "source": [
    "for i in range(len(correlationListList)):\n",
    "    plt.plot(correlationListList[i], scoreListList[i], '*--')\n",
    "plt.legend(seedList, bbox_to_anchor=(1.05, 1), loc=2, borderaxespad=0.)\n",
    "plt.xlabel('Correlation')\n",
    "plt.ylabel('Score')\n",
    "plt.title('Normalised Intensity Scores')\n",
    "plt.show()"
   ]
  },
  {
   "cell_type": "code",
   "execution_count": null,
   "metadata": {
    "collapsed": true
   },
   "outputs": [],
   "source": [
    "date = '_01-25-18'\n",
    "save_array(IMAGE + date + '/' + 'alphaListList.data', alphaListList)\n",
    "save_array(IMAGE + date + '/' + 'correlationListList.data', correlationListList)\n",
    "save_array(IMAGE + date + '/' + 'scoreListList.data', scoreListList)\n",
    "save_array(IMAGE + date + '/' + 'valueListList.data', valueListList)\n",
    "save_array(IMAGE + date + '/' + 'seedList.data', seedList[2:])\n",
    "save_array(IMAGE + date + '/' + 'minCondListList.data', minCondListList)\n",
    "save_array(IMAGE + date + '/' + 'minCondIndexListList.data', minCondIndexListList)"
   ]
  },
  {
   "cell_type": "code",
   "execution_count": null,
   "metadata": {
    "collapsed": true
   },
   "outputs": [],
   "source": [
    "alphaListListRecovered = load_array(IMAGE + date + '/' + 'alphaListList.data')\n",
    "correlationListListRecovered = load_array(IMAGE + date + '/' + 'correlationListList.data')\n",
    "scoreListListRecovered = load_array(IMAGE + date + '/' + 'scoreListList.data')\n",
    "valueListListRecovered = load_array(IMAGE + date + '/' + 'valueListList.data')\n",
    "seedListRecovered = ['Normalised Intensity', 'Normalised Intensity Square to between 0 1']\n",
    "seedListRecovered[2:] = load_array(IMAGE + date + '/' + 'seedList.data')\n",
    "minCondListListRecovered = load_array(IMAGE + date + '/' + 'minCondListList.data')\n",
    "minCondIndexListListRecovered = load_array(IMAGE + date + '/' + 'minCondIndexListList.data')"
   ]
  },
  {
   "cell_type": "code",
   "execution_count": null,
   "metadata": {
    "collapsed": true
   },
   "outputs": [],
   "source": [
    "print('Print with saved arrays for future usage')\n",
    "for i in range(len(correlationListListRecovered)):\n",
    "    plt.plot(correlationListListRecovered[i], scoreListListRecovered[i], '*--')\n",
    "plt.legend(seedListRecovered, bbox_to_anchor=(1.05, 1), loc=2, borderaxespad=0.)\n",
    "plt.xlabel('Correlation')\n",
    "plt.ylabel('Score')\n",
    "plt.title('Normalised Intensity Scores')\n",
    "# plt.axis([.8,1,0,1])\n",
    "plt.show()"
   ]
  },
  {
   "cell_type": "code",
   "execution_count": null,
   "metadata": {
    "collapsed": true
   },
   "outputs": [],
   "source": []
  }
 ],
 "metadata": {
  "kernelspec": {
   "display_name": "Python 3",
   "language": "python",
   "name": "python3"
  },
  "language_info": {
   "codemirror_mode": {
    "name": "ipython",
    "version": 3
   },
   "file_extension": ".py",
   "mimetype": "text/x-python",
   "name": "python",
   "nbconvert_exporter": "python",
   "pygments_lexer": "ipython3",
   "version": "3.5.2"
  }
 },
 "nbformat": 4,
 "nbformat_minor": 2
}
