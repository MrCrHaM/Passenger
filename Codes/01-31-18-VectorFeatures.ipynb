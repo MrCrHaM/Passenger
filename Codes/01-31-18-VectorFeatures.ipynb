{
 "cells": [
  {
   "cell_type": "code",
   "execution_count": 1,
   "metadata": {
    "collapsed": true
   },
   "outputs": [],
   "source": [
    "import re\n",
    "import matplotlib.pyplot as plt\n",
    "import numpy as np\n",
    "from scipy.sparse.linalg import bicgstab\n",
    "from scipy import sparse\n",
    "import Reader as rd\n",
    "from glob import glob\n",
    "import matplotlib.patches as patches\n",
    "import pandas as pd\n",
    "import math\n",
    "from scipy.misc import imread\n",
    "import bcolz\n",
    "\n",
    "import os"
   ]
  },
  {
   "cell_type": "code",
   "execution_count": 2,
   "metadata": {},
   "outputs": [],
   "source": [
    "def makeChessBoard(WhiteFrameWidth, chessNodeWidth, chessElementNumberPerRow):\n",
    "    size = WhiteFrameWidth * 2 + chessElementNumberPerRow * chessNodeWidth\n",
    "    A = np.zeros((size, size))\n",
    "    for i in range(size - 2 * WhiteFrameWidth):\n",
    "        for j in range(size - 2 * WhiteFrameWidth):\n",
    "            if ((int(i / chessNodeWidth)) + (int(j / chessNodeWidth))) % 2 == 0:\n",
    "                A[WhiteFrameWidth + i][WhiteFrameWidth + j] = 200\n",
    "    return A"
   ]
  },
  {
   "cell_type": "code",
   "execution_count": 3,
   "metadata": {},
   "outputs": [
    {
     "data": {
      "image/png": "[encoded data removed]",
      "text/plain": [
       "<matplotlib.figure.Figure at 0x11456f898>"
      ]
     },
     "metadata": {},
     "output_type": "display_data"
    }
   ],
   "source": [
    "A = makeChessBoard(20, 10, 4)\n",
    "plt.imshow(A)\n",
    "plt.show()"
   ]
  }
 ],
 "metadata": {
  "kernelspec": {
   "display_name": "Python 3",
   "language": "python",
   "name": "python3"
  },
  "language_info": {
   "codemirror_mode": {
    "name": "ipython",
    "version": 3
   },
   "file_extension": ".py",
   "mimetype": "text/x-python",
   "name": "python",
   "nbconvert_exporter": "python",
   "pygments_lexer": "ipython3",
   "version": "3.5.2"
  }
 },
 "nbformat": 4,
 "nbformat_minor": 2
}
