{
 "cells": [
  {
   "cell_type": "code",
   "execution_count": 1,
   "metadata": {
    "collapsed": true
   },
   "outputs": [],
   "source": [
    "import re\n",
    "import matplotlib.pyplot as plt\n",
    "import numpy as np\n",
    "from scipy.sparse.linalg import bicgstab\n",
    "import Reader as rd\n",
    "from glob import glob\n",
    "import matplotlib.patches as patches\n",
    "import pandas as pd\n",
    "import math\n",
    "from scipy.misc import imread\n",
    "\n",
    "\n",
    "import os"
   ]
  },
  {
   "cell_type": "code",
   "execution_count": 2,
   "metadata": {
    "collapsed": true
   },
   "outputs": [],
   "source": [
    "def e_neighbour_graph(img, e):\n",
    "    array = np.array(img)\n",
    "    rowN = np.shape(array)[0]\n",
    "    colN = np.shape(array)[1]\n",
    "    result = np.zeros((rowN * colN, rowN * colN))\n",
    "    for row in range(rowN):\n",
    "        for col in range(colN):\n",
    "            for rowDiff in range(-e, e + 1, 1):\n",
    "                for colDiff in range(-e, e + 1, 1):\n",
    "                    if(row + rowDiff < rowN and -1 < row + rowDiff and col + colDiff < colN and -1 < col + colDiff):\n",
    "                        if(rowDiff * rowDiff + colDiff * colDiff <= e * e):\n",
    "                            result[row * colN + col][(row + rowDiff) * colN + (col + colDiff)] = 1\n",
    "    return result\n",
    "\n",
    "\n",
    "def fully_connected_graph(img, sigma):\n",
    "    array = np.array(img)\n",
    "    rowN = np.shape(array)[0]\n",
    "    colN = np.shape(array)[1]\n",
    "    result = np.zeros((rowN * colN, rowN * colN))\n",
    "    for row in range(rowN):\n",
    "        for col in range(colN):\n",
    "            for row2 in range(rowN):\n",
    "                for col2 in range(colN):\n",
    "                    weight = math.exp(- math.pow(img[row][col] - img[row2][col2], 2) / (2 * math.pow(sigma, 2)))\n",
    "                    result[row * colN + col][row2 * colN + col2] = weight\n",
    "    return result\n",
    "\n",
    "\n",
    "def fully_connected_e_neighbour_graph(img, sigma, e):\n",
    "    array = np.array(img)\n",
    "    rowN = np.shape(array)[0]\n",
    "    colN = np.shape(array)[1]\n",
    "    result = np.zeros((rowN * colN, rowN * colN))\n",
    "    for row in range(rowN):\n",
    "        for col in range(colN):\n",
    "            for rowDiff in range(-e, e + 1, 1):\n",
    "                for colDiff in range(-e, e + 1, 1):\n",
    "                    if(row + rowDiff < rowN and -1 < row + rowDiff and col + colDiff < colN and -1 < col + colDiff):\n",
    "                        if(rowDiff * rowDiff + colDiff * colDiff <= e * e):\n",
    "                            row2 = row + rowDiff\n",
    "                            col2 = col + colDiff\n",
    "                            weight = math.exp(- math.pow(img[row][col] - img[row2][col2], 2) / (2 * math.pow(sigma, 2)))\n",
    "                            result[row * colN + col][row2 * colN + col2] = weight\n",
    "    return result\n",
    "'''\n",
    "# Check for graph implementations\n",
    "ANGLE = 0 # 0-15, 0 is front, 8 is back\n",
    "path_list = glob(\"./stage1_aps/*.aps\")\n",
    "path = path_list[0]\n",
    "data = rd.read_data(path_list[0])\n",
    "# we only get images from one certain angle\n",
    "# img = np.rot90(data[:,:, ANGLE])\n",
    "# imgplt = plt.imshow(img)\n",
    "plt.show()\n",
    "\n",
    "\n",
    "img2 = imread(\"./sample.jpg\")\n",
    "img2 = np.asarray(img2,np.dtype(np.int32))\n",
    "# plt.imshow(img2)\n",
    "# plt.show()\n",
    "A = np.array([[1,2,3], [0,5,6]])\n",
    "# A = img2\n",
    "print(\"Image\")\n",
    "print(np.shape(A))\n",
    "print(A)\n",
    "print(\"e neighbour graph\")\n",
    "print(e_neighbour_graph(A, 1))\n",
    "print(\"Fully connected & e neighbour graph\")\n",
    "print(np.round(fully_connected_e_neighbour_graph(A, 1, 1), decimals=2))\n",
    "print(\"Fully connected graph\")\n",
    "print(np.round(fully_connected_graph(A, 1), decimals=2))\n",
    "'''\n",
    "\n",
    "\n",
    "def laplacian(graph):\n",
    "    diag = np.diag(sum(graph))\n",
    "    lap = diag - graph\n",
    "    return [lap, diag]\n",
    "\n",
    "\n",
    "def orthogonalize(diag, s):\n",
    "    nodeNum = len(diag)\n",
    "    p = np.ones((nodeNum, 1)) / pow(sum(np.diag(np.diag(sum(diag)))), .5)\n",
    "    projection = np.dot(np.transpose(s), np.dot(diag, p))\n",
    "    v = s - projection[0][0] * p\n",
    "    # return [v, projection]\n",
    "    return v\n",
    "\n",
    "\n",
    "def PRwalk(graph, alpha, s):\n",
    "    if alpha < 0:\n",
    "        print('Error: alpha must be positive!')\n",
    "        return -1\n",
    "    nodeNum = len(graph)\n",
    "    [L, D] = laplacian(graph)\n",
    "    s = orthogonalize(D, s)\n",
    "    v, flag = bicgstab((L + alpha * D), np.dot(D, s),tol=1e-3, maxiter=nodeNum)\n",
    "\n",
    "    v = np.reshape(v, (len(v), 1))\n",
    "\n",
    "    v = orthogonalize(D, v)\n",
    "    return v\n",
    "\n",
    "# Check for method implementations\n",
    "# A = np.array([[1, 2, 3], [1, 5, 6]])\n",
    "# G = np.round(fully_connected_e_neighbour_graph(A, 10, 1), decimals=1)\n",
    "# print(\"Laplacian Check\")\n",
    "# [L, D] = laplacian(G)\n",
    "# print(L)\n",
    "# print(D)\n",
    "# print(\"Orthogonalize check\")\n",
    "# A = np.array([2,3,3])\n",
    "# D = np.diag(A)\n",
    "# s = np.array([[1], [2], [3]])\n",
    "# t = orthogonalize(D, s)\n",
    "# print(t)\n",
    "# print(\"PRwalk check\")\n",
    "# G = np.array([[0, 1], [1, 0]])\n",
    "# s = np.array([[1], [2]])\n",
    "# print(PRwalk(G, 1, s)) # output should be [[-0.167], [ 0.167]]\n",
    "\n",
    "def normalize(D, s):\n",
    "    norm = np.dot(np.dot(np.transpose(s), D), s)\n",
    "    v = s/math.sqrt(norm)\n",
    "    return v\n"
   ]
  },
  {
   "cell_type": "code",
   "execution_count": 15,
   "metadata": {
    "collapsed": true
   },
   "outputs": [],
   "source": [
    "# 1a10297e6c3101af33003e6c4f846f47\n",
    "myImg = np.asarray(imread(\"1a10297e6c3101af33003e6c4f846f47/1a10297e6c3101af33003e6c4f846f47.aps.jpg\"), dtype=np.int)\n",
    "# print(myImg)\n",
    "# print(myImg.shape) # 148 row, 176 columns\n",
    "graph = fully_connected_e_neighbour_graph(myImg, 5, 3)\n",
    "seed = np.zeros((myImg.shape[0] * myImg.shape[1], 1))\n",
    "# seed[40 * myImg.shape[1] + 90][0] = 1 # Example seed\n",
    "seed[74 * myImg.shape[1] + 88][0] = 1 # Example middle seed\n",
    "SeedList = [[40,90],[40,65],[45,123],[30,100]]\n",
    "for i in range(25, 122, 48):\n",
    "    for j in range(60, 125, 32):\n",
    "        SeedList.append([i,j])"
   ]
  },
  {
   "cell_type": "code",
   "execution_count": 64,
   "metadata": {
    "scrolled": false
   },
   "outputs": [
    {
     "name": "stdout",
     "output_type": "stream",
     "text": [
      "Threshold: 3.839066339066339e-05\n",
      "\n",
      "alpha: 10\n",
      "Correlation: 0.999984360526\n",
      "Score: 0.00365912553167\n",
      "\n",
      "alpha: 5.0\n",
      "Correlation: 0.999960636428\n",
      "Score: 0.0035102111853\n"
     ]
    }
   ],
   "source": [
    "# Trying seed as full image\n",
    "seed = myImg.copy()\n",
    "seed = seed.reshape(myImg.shape[0] * myImg.shape[1], 1)\n",
    "# Normalizing seed\n",
    "seed = seed / math.sqrt(sum(sum(seed * seed)))\n",
    "[L, D] = laplacian(graph)\n",
    "s = orthogonalize(D, seed)\n",
    "s = normalize(D, s)\n",
    "alpha = 10\n",
    "v = PRwalk(graph, alpha, s)\n",
    "normalization = (np.dot(np.dot(np.transpose(v), D), v))[0][0]\n",
    "# print(normalization)\n",
    "correlation = (np.dot(np.dot(np.dot(np.transpose(v), D), s), np.dot(np.dot(np.transpose(v), D), s)) / normalization)[0][0]\n",
    "score = ((np.dot(np.dot(np.transpose(v), L), v)) / normalization)[0][0]\n",
    "\n",
    "print('Threshold: ' + str(1 / len(graph)))\n",
    "alphaList = []\n",
    "alphaList.append(10)\n",
    "\n",
    "correlationList = []\n",
    "correlationList.append(correlation)\n",
    "      \n",
    "scoreList = []\n",
    "scoreList.append(score)\n",
    "print('')\n",
    "print('alpha: ' + str(10))\n",
    "print('Correlation: ' + str(correlation))\n",
    "print('Score: ' + str(score))\n",
    "\n",
    "while correlation > 1 / len(graph):\n",
    "    oldCorrelation = correlation\n",
    "    alpha = alpha/2\n",
    "    v = PRwalk(graph, alpha, s)\n",
    "    normalization = (np.dot(np.dot(np.transpose(v), D), v))[0][0]\n",
    "    correlation = \\\n",
    "        (np.dot(np.dot(np.dot(np.transpose(v), D), s), np.dot(np.dot(np.transpose(v), D), s)) / normalization)[0][0]\n",
    "    score = ((np.dot(np.dot(np.transpose(v), L), v)) / normalization)[0][0]\n",
    "    alphaList.append(alpha)\n",
    "    correlationList.append(correlation)\n",
    "    scoreList.append(score)\n",
    "    print('')\n",
    "    print('alpha: ' + str(alpha))\n",
    "    print('Correlation: ' + str(correlation))\n",
    "    print('Score: ' + str(score))\n",
    "    if oldCorrelation * .99 < correlation:\n",
    "        break"
   ]
  },
  {
   "cell_type": "code",
   "execution_count": null,
   "metadata": {
    "collapsed": true
   },
   "outputs": [],
   "source": [
    "Ps = np.copy(v[:,0])\n",
    "if(v[point] <= 0):\n",
    "    print('Negative!')\n",
    "    Ps = -1 * Ps\n",
    "for i in range(len(Ps)):\n",
    "    if(Ps[i] < 0):\n",
    "        Ps[i] = 0\n",
    "Ps = Ps / sum(Ps)\n",
    "# Flattening image\n",
    "imgArray = np.zeros(myImg.shape[0] * myImg.shape[1])\n",
    "for i in range(myImg.shape[0]):\n",
    "    for j in range(myImg.shape[1]):\n",
    "        imgArray[i * myImg.shape[1] + j] = myImg[i][j]\n",
    "LValues = np.argsort(-Ps)\n",
    "numerator = 0\n",
    "denominator = 0\n",
    "for i in range(3500):\n",
    "    numerator += Ps[LValues[i]] * imgArray[LValues[i]]\n",
    "    denominator += Ps[LValues[i]]\n",
    "score = numerator / math.sqrt(denominator)\n",
    "scoreList.append(score)\n",
    "print('Point: [' + str(elem[0]) + ', ' + str(elem[1]) + '] Score: ' + str(score))"
   ]
  },
  {
   "cell_type": "code",
   "execution_count": null,
   "metadata": {},
   "outputs": [
    {
     "name": "stdout",
     "output_type": "stream",
     "text": [
      "0.999640434855\n",
      "0.998618721697\n",
      "0.995257055019\n",
      "0.985341444266\n",
      "0.960152279998\n",
      "0.907531413025\n",
      "0.814664973106\n",
      "0.679071026739\n",
      "0.514036600204\n",
      "0.346753307414\n",
      "0.20280993974\n",
      "0.0994691106853\n",
      "0.0417767551779\n",
      "0.0167920765851\n",
      "0.00743927148161\n"
     ]
    }
   ],
   "source": [
    "scoreList = []\n",
    "for elem in SeedList[0]:\n",
    "    point = elem[0] * myImg.shape[1] + elem[1]\n",
    "    seed = np.zeros((myImg.shape[0] * myImg.shape[1], 1))\n",
    "    seed[point] = 1\n",
    "    [L, D] = laplacian(graph)\n",
    "    s = orthogonalize(D, seed)\n",
    "    s = normalize(D, s)\n",
    "    alpha = 10\n",
    "    v = PRwalk(graph, alpha, s)\n",
    "    normalization = (np.dot(np.dot(np.transpose(v), D), v))[0][0]\n",
    "    # print(normalization)\n",
    "    correlation = (np.dot(np.dot(np.dot(np.transpose(v), D), s), np.dot(np.dot(np.transpose(v), D), s)) / normalization)[0][0]\n",
    "    print(correlation)\n",
    "\n",
    "    while correlation > 1 / len(graph):\n",
    "        alpha = alpha/2\n",
    "        v = PRwalk(graph, alpha, s)\n",
    "        normalization = (np.dot(np.dot(np.transpose(v), D), v))[0][0]\n",
    "        correlation = \\\n",
    "            (np.dot(np.dot(np.dot(np.transpose(v), D), s), np.dot(np.dot(np.transpose(v), D), s)) / normalization)[0][0]\n",
    "        print(correlation)\n",
    "        # score these v by the quadratic form of the laplacian and their correlation and then decide which ones to keep\n",
    "        \n",
    "    Ps = np.copy(v[:,0])\n",
    "    if(v[point] <= 0):\n",
    "        print('Negative!')\n",
    "        Ps = -1 * Ps\n",
    "    for i in range(len(Ps)):\n",
    "        if(Ps[i] < 0):\n",
    "            Ps[i] = 0\n",
    "    Ps = Ps / sum(Ps)\n",
    "    # Flattening image\n",
    "    imgArray = np.zeros(myImg.shape[0] * myImg.shape[1])\n",
    "    for i in range(myImg.shape[0]):\n",
    "        for j in range(myImg.shape[1]):\n",
    "            imgArray[i * myImg.shape[1] + j] = myImg[i][j]\n",
    "    LValues = np.argsort(-Ps)\n",
    "    numerator = 0\n",
    "    denominator = 0\n",
    "    for i in range(3500):\n",
    "        numerator += Ps[LValues[i]] * imgArray[LValues[i]]\n",
    "        denominator += Ps[LValues[i]]\n",
    "    score = numerator / math.sqrt(denominator)\n",
    "    scoreList.append(score)\n",
    "    print('Point: [' + str(elem[0]) + ', ' + str(elem[1]) + '] Score: ' + str(score))\n",
    "copyScoreList = np.copy(scoreList)\n",
    "argSortList = np.argsort(-copyScoreList)\n",
    "numpySeedList = np.asarray(SeedList)\n",
    "scoreOverall = []\n",
    "pointsOverall = []\n",
    "for i in range(len(copyScoreList)):\n",
    "    elem = numpySeedList[list(argSortList)][i]\n",
    "    print('Point: [' + str(elem[0]) + ', ' + str(elem[1]) + '] Score: ' + str(copyScoreList[list(argSortList)][i]))\n",
    "    pointsOverall.append(copyScoreList[list(argSortList)][i])\n",
    "    scoreOverall.append([elem[0], elem[1], 1])"
   ]
  },
  {
   "cell_type": "code",
   "execution_count": 5,
   "metadata": {},
   "outputs": [
    {
     "name": "stdout",
     "output_type": "stream",
     "text": [
      "(140, 156)\n",
      "Point: [110, 90] Score: 152.896772214\n",
      "Point: [110, 70] Score: 149.868111538\n",
      "Point: [94, 90] Score: 141.653859712\n",
      "Point: [94, 50] Score: 140.792108337\n",
      "Point: [94, 70] Score: 140.46532555\n",
      "Point: [110, 50] Score: 136.274417118\n",
      "Point: [94, 110] Score: 128.320182021\n",
      "Point: [110, 110] Score: 125.314297329\n",
      "Point: [78, 70] Score: 117.8884876\n",
      "Point: [46, 70] Score: 117.239597281\n",
      "Point: [30, 70] Score: 116.008172021\n",
      "Point: [62, 70] Score: 114.797126183\n",
      "Point: [46, 90] Score: 114.245595076\n",
      "Point: [30, 90] Score: 111.521018836\n",
      "Point: [78, 90] Score: 111.443375422\n",
      "Point: [62, 90] Score: 111.066523328\n",
      "Point: [46, 50] Score: 104.523121962\n",
      "Point: [46, 110] Score: 104.283104645\n",
      "Point: [62, 110] Score: 102.051415894\n",
      "Point: [62, 50] Score: 97.1582942986\n",
      "Point: [78, 50] Score: 89.848457236\n",
      "Point: [78, 110] Score: 85.7691354018\n",
      "Point: [30, 110] Score: 84.7956813339\n",
      "Point: [30, 50] Score: 71.892486473\n"
     ]
    }
   ],
   "source": [
    "# 0cc6fc725d4b8818415ddc06823fce98\n",
    "myImg = np.asarray(imread(\"0cc6fc725d4b8818415ddc06823fce98/0cc6fc725d4b8818415ddc06823fce98.aps.jpg\"), dtype=np.int)\n",
    "graph = fully_connected_e_neighbour_graph(myImg, 5, 3)\n",
    "print(myImg.shape)\n",
    "# print(np.round(graph, decimals=3))\n",
    "seed = np.zeros((myImg.shape[0] * myImg.shape[1], 1))\n",
    "seed[70 * myImg.shape[1] + 78][0] = 1 # Example seed\n",
    "# seed[70 * myImg.shape[1] + 70][0] = 1 # Example middle seed\n",
    "SeedList = []\n",
    "for i in range(30, 111, 16):\n",
    "    for j in range(50, 111, 20):\n",
    "        SeedList.append([i,j])\n",
    "scoreList = []\n",
    "for elem in SeedList:\n",
    "    point = elem[0] * myImg.shape[1] + elem[1]\n",
    "    seed = np.zeros((myImg.shape[0] * myImg.shape[1], 1))\n",
    "    seed[point] = 1\n",
    "    [L, D] = laplacian(graph)\n",
    "    s = orthogonalize(D, seed)\n",
    "    s = normalize(D, s)\n",
    "    alpha = .001\n",
    "    v = PRwalk(graph, alpha, s)\n",
    "    normalization = (np.dot(np.dot(np.transpose(v), D), v))[0][0]\n",
    "    # print(normalization)\n",
    "    correlation = (np.dot(np.dot(np.dot(np.transpose(v), D), s), np.dot(np.dot(np.transpose(v), D), s)) / normalization)[0][0]\n",
    "    # print(correlation)\n",
    "\n",
    "    while correlation < 1 / len(graph):\n",
    "        alpha = 2 * alpha\n",
    "        v = PRwalk(graph, alpha, s)\n",
    "        normalization = (np.dot(np.dot(np.transpose(v), D), v))[0][0]\n",
    "        correlation = \\\n",
    "            (np.dot(np.dot(np.dot(np.transpose(v), D), s), np.dot(np.dot(np.transpose(v), D), s)) / normalization)[0][0]\n",
    "        print(correlation)\n",
    "        \n",
    "    Ps = np.copy(v[:,0])\n",
    "    if(v[point] <= 0):\n",
    "        print('Negative!')\n",
    "        Ps = -1 * Ps\n",
    "    for i in range(len(Ps)):\n",
    "        if(Ps[i] < 0):\n",
    "            Ps[i] = 0\n",
    "    Ps = Ps / sum(Ps)\n",
    "    # Flattening image\n",
    "    imgArray = np.zeros(myImg.shape[0] * myImg.shape[1])\n",
    "    for i in range(myImg.shape[0]):\n",
    "        for j in range(myImg.shape[1]):\n",
    "            imgArray[i * myImg.shape[1] + j] = myImg[i][j]\n",
    "    LValues = np.argsort(-Ps)\n",
    "    numerator = 0\n",
    "    denominator = 0\n",
    "    for i in range(3500):\n",
    "        numerator += Ps[LValues[i]] * imgArray[LValues[i]]\n",
    "        denominator += Ps[LValues[i]]\n",
    "    score = numerator / math.sqrt(denominator)\n",
    "    scoreList.append(score)\n",
    "    # print('Point: [' + str(elem[0]) + ', ' + str(elem[1]) + '] Score: ' + str(score))\n",
    "copyScoreList = np.copy(scoreList)\n",
    "argSortList = np.argsort(-copyScoreList)\n",
    "numpySeedList = np.asarray(SeedList)\n",
    "for i in range(len(copyScoreList)):\n",
    "    elem = numpySeedList[list(argSortList)][i]\n",
    "    print('Point: [' + str(elem[0]) + ', ' + str(elem[1]) + '] Score: ' + str(copyScoreList[list(argSortList)][i]))\n",
    "    pointsOverall.append(copyScoreList[list(argSortList)][i])\n",
    "    scoreOverall.append([elem[0], elem[1], 2])"
   ]
  },
  {
   "cell_type": "code",
   "execution_count": 8,
   "metadata": {},
   "outputs": [
    {
     "data": {
      "text/plain": [
       "[94.056283058034168,\n",
       " 86.831637541840607,\n",
       " 78.276926224192394,\n",
       " 78.247805975229781,\n",
       " 76.087615680475722,\n",
       " 72.841199380610803,\n",
       " 71.057359870395217,\n",
       " 70.914683233100959,\n",
       " 70.853892357121154,\n",
       " 68.787719006536435,\n",
       " 55.802226664234539,\n",
       " 51.828761284756311,\n",
       " 50.123825333618406,\n",
       " 45.86125608047363,\n",
       " 42.81951174499747,\n",
       " 21.833959001906724,\n",
       " 21.472224428726996,\n",
       " 21.390891073556194,\n",
       " 21.277633917400983,\n",
       " 21.197407693776462,\n",
       " 21.11257017878259,\n",
       " 20.728240570541782,\n",
       " 19.908669696916579,\n",
       " 19.666650455979063,\n",
       " 152.89677221371866,\n",
       " 149.86811153815964,\n",
       " 141.65385971235162,\n",
       " 140.79210833745898,\n",
       " 140.46532554988195,\n",
       " 136.2744171178866,\n",
       " 128.32018202060593,\n",
       " 125.31429732870855,\n",
       " 117.88848760039568,\n",
       " 117.23959728091964,\n",
       " 116.00817202071316,\n",
       " 114.79712618294602,\n",
       " 114.24559507554318,\n",
       " 111.52101883556846,\n",
       " 111.44337542186005,\n",
       " 111.06652332786176,\n",
       " 104.52312196164915,\n",
       " 104.28310464542092,\n",
       " 102.05141589431582,\n",
       " 97.158294298567938,\n",
       " 89.848457236029276,\n",
       " 85.769135401804789,\n",
       " 84.795681333940308,\n",
       " 71.89248647296283]"
      ]
     },
     "execution_count": 8,
     "metadata": {},
     "output_type": "execute_result"
    }
   ],
   "source": [
    "pointsOverall"
   ]
  },
  {
   "cell_type": "code",
   "execution_count": 15,
   "metadata": {
    "collapsed": true
   },
   "outputs": [],
   "source": [
    "copyScoreList3 = np.copy(pointsOverall)\n",
    "argSortList = np.argsort(-copyScoreList3)\n",
    "# copyScoreList3 = (copyScoreList3 - np.mean(copyScoreList3)) / np.std(copyScoreList3)\n",
    "plt.stem(range(1, len(copyScoreList3) + 1),copyScoreList3[list(argSortList)] , basefmt=\" \")\n",
    "# plt.axis([0, 25, 0, 100])\n",
    "plt.xlabel('Point')\n",
    "plt.ylabel('Score')\n",
    "# plt.show()\n",
    "# plt.savefig('DifferentSeedsPlotNormalized(N(0,1)).eps')\n",
    "plt.savefig('DifferentSeedsAllPlot.eps')"
   ]
  },
  {
   "cell_type": "code",
   "execution_count": 3,
   "metadata": {},
   "outputs": [
    {
     "data": {
      "text/plain": [
       "'\\nmyImg = np.asarray(imread(\"3a8696b99b2d1b28be62389d48d697be/3a8696b99b2d1b28be62389d48d697be.aps.jpg\"), dtype=np.int)\\ngraph = fully_connected_e_neighbour_graph(myImg, 5, 3)\\nprint(myImg.shape)\\n# print(np.round(graph, decimals=3))\\nseed = np.zeros((myImg.shape[0] * myImg.shape[1], 1))\\n# seed[20 * myImg.shape[1] + 65][0] = 1 # Example seed\\nseed[70 * myImg.shape[1] + 70][0] = 1 # Example middle seed\\n\\nmyImg = np.asarray(imread(\"0cc6fc725d4b8818415ddc06823fce98.aps.jpg\"), dtype=np.int)\\ngraph = fully_connected_e_neighbour_graph(myImg, 5, 3)\\nprint(myImg.shape)\\n# print(np.round(graph, decimals=3))\\nseed = np.zeros((myImg.shape[0] * myImg.shape[1], 1))\\nseed[70 * myImg.shape[1] + 78][0] = 1 # Example seed\\n# seed[70 * myImg.shape[1] + 70][0] = 1 # Example middle seed\\n'"
      ]
     },
     "execution_count": 3,
     "metadata": {},
     "output_type": "execute_result"
    }
   ],
   "source": [
    "# '''\n",
    "myImg = np.asarray(imread(\"1a10297e6c3101af33003e6c4f846f47/1a10297e6c3101af33003e6c4f846f47.aps.jpg\"), dtype=np.int)\n",
    "# print(myImg)\n",
    "# print(myImg.shape) # 148 row, 176 columns\n",
    "graph = fully_connected_e_neighbour_graph(myImg, 5, 3)\n",
    "seed = np.zeros((myImg.shape[0] * myImg.shape[1], 1))\n",
    "# seed[40 * myImg.shape[1] + 90][0] = 1 # Example seed\n",
    "seed[74 * myImg.shape[1] + 88][0] = 1 # Example middle seed\n",
    "'''\n",
    "myImg = np.asarray(imread(\"3a8696b99b2d1b28be62389d48d697be/3a8696b99b2d1b28be62389d48d697be.aps.jpg\"), dtype=np.int)\n",
    "graph = fully_connected_e_neighbour_graph(myImg, 5, 3)\n",
    "print(myImg.shape)\n",
    "# print(np.round(graph, decimals=3))\n",
    "seed = np.zeros((myImg.shape[0] * myImg.shape[1], 1))\n",
    "# seed[20 * myImg.shape[1] + 65][0] = 1 # Example seed\n",
    "seed[70 * myImg.shape[1] + 70][0] = 1 # Example middle seed\n",
    "\n",
    "myImg = np.asarray(imread(\"0cc6fc725d4b8818415ddc06823fce98.aps.jpg\"), dtype=np.int)\n",
    "graph = fully_connected_e_neighbour_graph(myImg, 5, 3)\n",
    "print(myImg.shape)\n",
    "# print(np.round(graph, decimals=3))\n",
    "seed = np.zeros((myImg.shape[0] * myImg.shape[1], 1))\n",
    "seed[70 * myImg.shape[1] + 78][0] = 1 # Example seed\n",
    "# seed[70 * myImg.shape[1] + 70][0] = 1 # Example middle seed\n",
    "'''"
   ]
  },
  {
   "cell_type": "code",
   "execution_count": null,
   "metadata": {
    "collapsed": true
   },
   "outputs": [],
   "source": []
  },
  {
   "cell_type": "code",
   "execution_count": 11,
   "metadata": {},
   "outputs": [
    {
     "data": {
      "text/plain": [
       "[[40, 90],\n",
       " [40, 65],\n",
       " [45, 123],\n",
       " [30, 100],\n",
       " [25, 60],\n",
       " [25, 81],\n",
       " [25, 102],\n",
       " [25, 123],\n",
       " [49, 60],\n",
       " [49, 81],\n",
       " [49, 102],\n",
       " [49, 123],\n",
       " [73, 60],\n",
       " [73, 81],\n",
       " [73, 102],\n",
       " [73, 123],\n",
       " [97, 60],\n",
       " [97, 81],\n",
       " [97, 102],\n",
       " [97, 123],\n",
       " [121, 60],\n",
       " [121, 81],\n",
       " [121, 102],\n",
       " [121, 123]]"
      ]
     },
     "execution_count": 11,
     "metadata": {},
     "output_type": "execute_result"
    }
   ],
   "source": [
    "SeedList = [[40,90],[40,65],[45,123],[30,100]]\n",
    "for i in range(25, 122, 24):\n",
    "    for j in range(60, 125, 21):\n",
    "        SeedList.append([i,j])\n",
    "SeedList"
   ]
  },
  {
   "cell_type": "code",
   "execution_count": 90,
   "metadata": {},
   "outputs": [
    {
     "ename": "KeyboardInterrupt",
     "evalue": "",
     "output_type": "error",
     "traceback": [
      "\u001b[0;31m---------------------------------------------------------------------------\u001b[0m",
      "\u001b[0;31mKeyboardInterrupt\u001b[0m                         Traceback (most recent call last)",
      "\u001b[0;32m<ipython-input-90-96bfc9345946>\u001b[0m in \u001b[0;36m<module>\u001b[0;34m()\u001b[0m\n\u001b[1;32m     10\u001b[0m     \u001b[0ms\u001b[0m \u001b[0;34m=\u001b[0m \u001b[0mnormalize\u001b[0m\u001b[0;34m(\u001b[0m\u001b[0mD\u001b[0m\u001b[0;34m,\u001b[0m \u001b[0ms\u001b[0m\u001b[0;34m)\u001b[0m\u001b[0;34m\u001b[0m\u001b[0m\n\u001b[1;32m     11\u001b[0m     \u001b[0malpha\u001b[0m \u001b[0;34m=\u001b[0m \u001b[0;36m.001\u001b[0m\u001b[0;34m\u001b[0m\u001b[0m\n\u001b[0;32m---> 12\u001b[0;31m     \u001b[0mv\u001b[0m \u001b[0;34m=\u001b[0m \u001b[0mPRwalk\u001b[0m\u001b[0;34m(\u001b[0m\u001b[0mgraph\u001b[0m\u001b[0;34m,\u001b[0m \u001b[0malpha\u001b[0m\u001b[0;34m,\u001b[0m \u001b[0ms\u001b[0m\u001b[0;34m)\u001b[0m\u001b[0;34m\u001b[0m\u001b[0m\n\u001b[0m\u001b[1;32m     13\u001b[0m     \u001b[0mnormalization\u001b[0m \u001b[0;34m=\u001b[0m \u001b[0;34m(\u001b[0m\u001b[0mnp\u001b[0m\u001b[0;34m.\u001b[0m\u001b[0mdot\u001b[0m\u001b[0;34m(\u001b[0m\u001b[0mnp\u001b[0m\u001b[0;34m.\u001b[0m\u001b[0mdot\u001b[0m\u001b[0;34m(\u001b[0m\u001b[0mnp\u001b[0m\u001b[0;34m.\u001b[0m\u001b[0mtranspose\u001b[0m\u001b[0;34m(\u001b[0m\u001b[0mv\u001b[0m\u001b[0;34m)\u001b[0m\u001b[0;34m,\u001b[0m \u001b[0mD\u001b[0m\u001b[0;34m)\u001b[0m\u001b[0;34m,\u001b[0m \u001b[0mv\u001b[0m\u001b[0;34m)\u001b[0m\u001b[0;34m)\u001b[0m\u001b[0;34m[\u001b[0m\u001b[0;36m0\u001b[0m\u001b[0;34m]\u001b[0m\u001b[0;34m[\u001b[0m\u001b[0;36m0\u001b[0m\u001b[0;34m]\u001b[0m\u001b[0;34m\u001b[0m\u001b[0m\n\u001b[1;32m     14\u001b[0m     \u001b[0;31m# print(normalization)\u001b[0m\u001b[0;34m\u001b[0m\u001b[0;34m\u001b[0m\u001b[0m\n",
      "\u001b[0;32m<ipython-input-2-807989884711>\u001b[0m in \u001b[0;36mPRwalk\u001b[0;34m(graph, alpha, s)\u001b[0m\n\u001b[1;32m     94\u001b[0m         \u001b[0;32mreturn\u001b[0m \u001b[0;34m-\u001b[0m\u001b[0;36m1\u001b[0m\u001b[0;34m\u001b[0m\u001b[0m\n\u001b[1;32m     95\u001b[0m     \u001b[0mnodeNum\u001b[0m \u001b[0;34m=\u001b[0m \u001b[0mlen\u001b[0m\u001b[0;34m(\u001b[0m\u001b[0mgraph\u001b[0m\u001b[0;34m)\u001b[0m\u001b[0;34m\u001b[0m\u001b[0m\n\u001b[0;32m---> 96\u001b[0;31m     \u001b[0;34m[\u001b[0m\u001b[0mL\u001b[0m\u001b[0;34m,\u001b[0m \u001b[0mD\u001b[0m\u001b[0;34m]\u001b[0m \u001b[0;34m=\u001b[0m \u001b[0mlaplacian\u001b[0m\u001b[0;34m(\u001b[0m\u001b[0mgraph\u001b[0m\u001b[0;34m)\u001b[0m\u001b[0;34m\u001b[0m\u001b[0m\n\u001b[0m\u001b[1;32m     97\u001b[0m     \u001b[0ms\u001b[0m \u001b[0;34m=\u001b[0m \u001b[0morthogonalize\u001b[0m\u001b[0;34m(\u001b[0m\u001b[0mD\u001b[0m\u001b[0;34m,\u001b[0m \u001b[0ms\u001b[0m\u001b[0;34m)\u001b[0m\u001b[0;34m\u001b[0m\u001b[0m\n\u001b[1;32m     98\u001b[0m     \u001b[0mv\u001b[0m\u001b[0;34m,\u001b[0m \u001b[0mflag\u001b[0m \u001b[0;34m=\u001b[0m \u001b[0mbicgstab\u001b[0m\u001b[0;34m(\u001b[0m\u001b[0;34m(\u001b[0m\u001b[0mL\u001b[0m \u001b[0;34m+\u001b[0m \u001b[0malpha\u001b[0m \u001b[0;34m*\u001b[0m \u001b[0mD\u001b[0m\u001b[0;34m)\u001b[0m\u001b[0;34m,\u001b[0m \u001b[0mnp\u001b[0m\u001b[0;34m.\u001b[0m\u001b[0mdot\u001b[0m\u001b[0;34m(\u001b[0m\u001b[0mD\u001b[0m\u001b[0;34m,\u001b[0m \u001b[0ms\u001b[0m\u001b[0;34m)\u001b[0m\u001b[0;34m,\u001b[0m\u001b[0mtol\u001b[0m\u001b[0;34m=\u001b[0m\u001b[0;36m1e-3\u001b[0m\u001b[0;34m,\u001b[0m \u001b[0mmaxiter\u001b[0m\u001b[0;34m=\u001b[0m\u001b[0mnodeNum\u001b[0m\u001b[0;34m)\u001b[0m\u001b[0;34m\u001b[0m\u001b[0m\n",
      "\u001b[0;32m<ipython-input-2-807989884711>\u001b[0m in \u001b[0;36mlaplacian\u001b[0;34m(graph)\u001b[0m\n\u001b[1;32m     76\u001b[0m \u001b[0;32mdef\u001b[0m \u001b[0mlaplacian\u001b[0m\u001b[0;34m(\u001b[0m\u001b[0mgraph\u001b[0m\u001b[0;34m)\u001b[0m\u001b[0;34m:\u001b[0m\u001b[0;34m\u001b[0m\u001b[0m\n\u001b[1;32m     77\u001b[0m     \u001b[0mdiag\u001b[0m \u001b[0;34m=\u001b[0m \u001b[0mnp\u001b[0m\u001b[0;34m.\u001b[0m\u001b[0mdiag\u001b[0m\u001b[0;34m(\u001b[0m\u001b[0msum\u001b[0m\u001b[0;34m(\u001b[0m\u001b[0mgraph\u001b[0m\u001b[0;34m)\u001b[0m\u001b[0;34m)\u001b[0m\u001b[0;34m\u001b[0m\u001b[0m\n\u001b[0;32m---> 78\u001b[0;31m     \u001b[0mlap\u001b[0m \u001b[0;34m=\u001b[0m \u001b[0mdiag\u001b[0m \u001b[0;34m-\u001b[0m \u001b[0mgraph\u001b[0m\u001b[0;34m\u001b[0m\u001b[0m\n\u001b[0m\u001b[1;32m     79\u001b[0m     \u001b[0;32mreturn\u001b[0m \u001b[0;34m[\u001b[0m\u001b[0mlap\u001b[0m\u001b[0;34m,\u001b[0m \u001b[0mdiag\u001b[0m\u001b[0;34m]\u001b[0m\u001b[0;34m\u001b[0m\u001b[0m\n\u001b[1;32m     80\u001b[0m \u001b[0;34m\u001b[0m\u001b[0m\n",
      "\u001b[0;31mKeyboardInterrupt\u001b[0m: "
     ]
    }
   ],
   "source": [
    "# SeedList = [[25,60],[25,130],[120,60],[120,130]]\n",
    "# SeedList = [[120,125]]\n",
    "scoreList = []\n",
    "for elem in SeedList:\n",
    "    point = elem[0] * myImg.shape[1] + elem[1]\n",
    "    seed = np.zeros((myImg.shape[0] * myImg.shape[1], 1))\n",
    "    seed[point] = 1\n",
    "    [L, D] = laplacian(graph)\n",
    "    s = orthogonalize(D, seed)\n",
    "    s = normalize(D, s)\n",
    "    alpha = .001\n",
    "    v = PRwalk(graph, alpha, s)\n",
    "    normalization = (np.dot(np.dot(np.transpose(v), D), v))[0][0]\n",
    "    # print(normalization)\n",
    "    correlation = (np.dot(np.dot(np.dot(np.transpose(v), D), s), np.dot(np.dot(np.transpose(v), D), s)) / normalization)[0][0]\n",
    "    # print(correlation)\n",
    "\n",
    "    while correlation < 1 / len(graph):\n",
    "        alpha = 2 * alpha\n",
    "        v = PRwalk(graph, alpha, s)\n",
    "        normalization = (np.dot(np.dot(np.transpose(v), D), v))[0][0]\n",
    "        correlation = \\\n",
    "            (np.dot(np.dot(np.dot(np.transpose(v), D), s), np.dot(np.dot(np.transpose(v), D), s)) / normalization)[0][0]\n",
    "        print(correlation)\n",
    "        \n",
    "    Ps = np.copy(v[:,0])\n",
    "    if(v[point] <= 0):\n",
    "        print('Negative!')\n",
    "        Ps = -1 * Ps\n",
    "    for i in range(len(Ps)):\n",
    "        if(Ps[i] < 0):\n",
    "            Ps[i] = 0\n",
    "    Ps = Ps / sum(Ps)\n",
    "    # Flattening image\n",
    "    imgArray = np.zeros(myImg.shape[0] * myImg.shape[1])\n",
    "    for i in range(myImg.shape[0]):\n",
    "        for j in range(myImg.shape[1]):\n",
    "            imgArray[i * myImg.shape[1] + j] = myImg[i][j]\n",
    "    LValues = np.argsort(-Ps)\n",
    "    numerator = 0\n",
    "    denominator = 0\n",
    "    for i in range(3500):\n",
    "        numerator += Ps[LValues[i]] * imgArray[LValues[i]]\n",
    "        denominator += Ps[LValues[i]]\n",
    "    score = numerator / math.sqrt(denominator)\n",
    "    scoreList.append(score)\n",
    "    print('Point: [' + str(elem[0]) + ', ' + str(elem[1]) + '] Score: ' + str(score))"
   ]
  },
  {
   "cell_type": "code",
   "execution_count": 40,
   "metadata": {
    "collapsed": true
   },
   "outputs": [],
   "source": [
    "copyScoreList = np.copy(scoreList)\n",
    "argSortList = np.argsort(-copyScoreList)"
   ]
  },
  {
   "cell_type": "code",
   "execution_count": 69,
   "metadata": {
    "collapsed": true
   },
   "outputs": [],
   "source": [
    "plt.stem(range(1, len(copyScoreList) + 1),copyScoreList[list(argSortList)] , basefmt=\" \")\n",
    "plt.axis([0, 25, 0, 100])\n",
    "plt.xlabel('Point')\n",
    "plt.ylabel('Score')\n",
    "# plt.show()\n",
    "plt.savefig('DifferentSeedsPlot.eps')"
   ]
  },
  {
   "cell_type": "code",
   "execution_count": 57,
   "metadata": {},
   "outputs": [
    {
     "name": "stdout",
     "output_type": "stream",
     "text": [
      "Point: [121, 81] Score: 94.056283058\n",
      "Point: [121, 102] Score: 86.8316375418\n",
      "Point: [73, 102] Score: 78.2769262242\n",
      "Point: [73, 81] Score: 78.2478059752\n",
      "Point: [97, 81] Score: 76.0876156805\n",
      "Point: [97, 60] Score: 72.8411993806\n",
      "Point: [121, 60] Score: 71.0573598704\n",
      "Point: [73, 60] Score: 70.9146832331\n",
      "Point: [73, 123] Score: 70.8538923571\n",
      "Point: [97, 102] Score: 68.7877190065\n",
      "Point: [25, 81] Score: 55.8022266642\n",
      "Point: [121, 123] Score: 51.8287612848\n",
      "Point: [25, 60] Score: 50.1238253336\n",
      "Point: [97, 123] Score: 45.8612560805\n",
      "Point: [25, 123] Score: 42.819511745\n",
      "Point: [25, 102] Score: 21.8339590019\n",
      "Point: [40, 65] Score: 21.4722244287\n",
      "Point: [30, 100] Score: 21.3908910736\n",
      "Point: [40, 90] Score: 21.2776339174\n",
      "Point: [49, 81] Score: 21.1974076938\n",
      "Point: [49, 60] Score: 21.1125701788\n",
      "Point: [49, 102] Score: 20.7282405705\n",
      "Point: [45, 123] Score: 19.9086696969\n",
      "Point: [49, 123] Score: 19.666650456\n"
     ]
    }
   ],
   "source": [
    "numpySeedList = np.asarray(SeedList)\n",
    "for i in range(len(copyScoreList)):\n",
    "    elem = numpySeedList[list(argSortList)][i]\n",
    "    print('Point: [' + str(elem[0]) + ', ' + str(elem[1]) + '] Score: ' + str(copyScoreList[list(argSortList)][i]))"
   ]
  },
  {
   "cell_type": "code",
   "execution_count": 89,
   "metadata": {
    "collapsed": true,
    "scrolled": true
   },
   "outputs": [],
   "source": [
    "copyScoreList2 = np.copy(scoreList)\n",
    "copyScoreList2 = (copyScoreList2 - np.mean(copyScoreList2)) / np.std(copyScoreList2)\n",
    "plt.stem(range(1, len(copyScoreList2) + 1),copyScoreList2[list(argSortList)] , basefmt=\" \")\n",
    "# plt.axis([0, 25, 0, 100])\n",
    "plt.xlabel('Point')\n",
    "plt.ylabel('Score')\n",
    "# plt.show()\n",
    "plt.savefig('DifferentSeedsPlotNormalized(N(0,1)).eps')"
   ]
  },
  {
   "cell_type": "code",
   "execution_count": 79,
   "metadata": {},
   "outputs": [
    {
     "name": "stdout",
     "output_type": "stream",
     "text": [
      "109.370271349\n",
      "0.0235638565228\n"
     ]
    }
   ],
   "source": [
    "[L, D] = laplacian(graph)\n",
    "s = orthogonalize(D, seed)\n",
    "s = normalize(D, s)\n",
    "alpha = .001\n",
    "v = PRwalk(graph, alpha, s)\n",
    "normalization = (np.dot(np.dot(np.transpose(v), D), v))[0][0]\n",
    "print(normalization)\n",
    "correlation = (np.dot(np.dot(np.dot(np.transpose(v), D), s), np.dot(np.dot(np.transpose(v), D), s)) / normalization)[0][0]\n",
    "print(correlation)\n",
    "\n",
    "while correlation < 1 / len(graph):\n",
    "    alpha = 2 * alpha\n",
    "    v = PRwalk(graph, alpha, s)\n",
    "    normalization = (np.dot(np.dot(np.transpose(v), D), v))[0][0]\n",
    "    correlation = \\\n",
    "        (np.dot(np.dot(np.dot(np.transpose(v), D), s), np.dot(np.dot(np.transpose(v), D), s)) / normalization)[0][0]\n",
    "    print(correlation)"
   ]
  },
  {
   "cell_type": "code",
   "execution_count": 91,
   "metadata": {},
   "outputs": [
    {
     "data": {
      "text/plain": [
       "[]"
      ]
     },
     "execution_count": 91,
     "metadata": {},
     "output_type": "execute_result"
    }
   ],
   "source": [
    "scoreList"
   ]
  },
  {
   "cell_type": "code",
   "execution_count": 87,
   "metadata": {},
   "outputs": [
    {
     "data": {
      "text/plain": [
       "array([-0.00625094])"
      ]
     },
     "execution_count": 87,
     "metadata": {},
     "output_type": "execute_result"
    }
   ],
   "source": [
    "v[74 * myImg.shape[1] + 88]\n",
    "min(v)"
   ]
  },
  {
   "cell_type": "code",
   "execution_count": 85,
   "metadata": {},
   "outputs": [
    {
     "name": "stdout",
     "output_type": "stream",
     "text": [
      "0.0\n",
      "0.380390937484\n"
     ]
    }
   ],
   "source": [
    "Ps = np.copy(v[:,0])\n",
    "for i in range(len(Ps)):\n",
    "    if(Ps[i] < 0):\n",
    "        Ps[i] = 0\n",
    "print(Ps[74 * myImg.shape[1] + 88])\n",
    "Ps = Ps / sum(Ps)\n",
    "# Flattening image\n",
    "imgArray = np.zeros(myImg.shape[0] * myImg.shape[1])\n",
    "for i in range(myImg.shape[0]):\n",
    "    for j in range(myImg.shape[1]):\n",
    "        imgArray[i * myImg.shape[1] + j] = myImg[i][j]\n",
    "LValues = np.argsort(-Ps)"
   ]
  },
  {
   "cell_type": "code",
   "execution_count": 84,
   "metadata": {},
   "outputs": [
    {
     "data": {
      "text/plain": [
       "1.0000000000000009"
      ]
     },
     "execution_count": 84,
     "metadata": {},
     "output_type": "execute_result"
    }
   ],
   "source": [
    "sum(Ps)"
   ]
  },
  {
   "cell_type": "code",
   "execution_count": 75,
   "metadata": {
    "collapsed": true
   },
   "outputs": [],
   "source": [
    "plt.plot(Ps[list(LValues)])\n",
    "plt.axis([0, 3500, 0, .0005])\n",
    "# plt.show()\n",
    "plt.savefig('ScoreCalculation/SeedOutThreadProbabilitySortingZoomed.eps')\n",
    "# 1a10297e6c3101af33003e6c4f846f47\n",
    "# L is chosen to be 2500 for seed in  threat\n",
    "# L is chosen to be 3500 for seed out threat\n",
    "# 3a8696b99b2d1b28be62389d48d697be\n",
    "# L is chosen to be 2500 for seed in  threat\n",
    "# L is chosen to be 3500 for seed out threat"
   ]
  },
  {
   "cell_type": "code",
   "execution_count": 86,
   "metadata": {},
   "outputs": [
    {
     "data": {
      "text/plain": [
       "78.898223757060279"
      ]
     },
     "execution_count": 86,
     "metadata": {},
     "output_type": "execute_result"
    }
   ],
   "source": [
    "numerator = 0\n",
    "denominator = 0\n",
    "for i in range(3500):\n",
    "    numerator += Ps[LValues[i]] * imgArray[LValues[i]]\n",
    "    denominator += Ps[LValues[i]]\n",
    "score = numerator / math.sqrt(denominator)\n",
    "score\n",
    "# 1a10297e6c3101af33003e6c4f846f47\n",
    "# Score for seed in  threat is 20.92396\n",
    "# Score for seed out threat is 78.89822\n",
    "# 3a8696b99b2d1b28be62389d48d697be\n",
    "# Score for seed in  threat is 47.65544\n",
    "# Score for seed out threat is 96.64295"
   ]
  },
  {
   "cell_type": "code",
   "execution_count": 47,
   "metadata": {},
   "outputs": [
    {
     "data": {
      "image/png": "[encoded data removed]",
      "text/plain": [
       "<matplotlib.figure.Figure at 0x4e2846198>"
      ]
     },
     "metadata": {},
     "output_type": "display_data"
    },
    {
     "data": {
      "image/png": "[encoded data removed]",
      "text/plain": [
       "<matplotlib.figure.Figure at 0x4e28b0ba8>"
      ]
     },
     "metadata": {},
     "output_type": "display_data"
    }
   ],
   "source": [
    "heat = np.zeros(myImg.shape)\n",
    "for i in range(myImg.shape[0]):\n",
    "    for j in range(myImg.shape[1]):\n",
    "        heat[i][j] = Ps[i * myImg.shape[1] + j]\n",
    "plt.show()\n",
    "plt.imshow(heat, cmap='hot', interpolation='nearest')\n",
    "plt.show()"
   ]
  },
  {
   "cell_type": "code",
   "execution_count": 122,
   "metadata": {},
   "outputs": [
    {
     "data": {
      "image/png": "[encoded data removed]",
      "text/plain": [
       "<matplotlib.figure.Figure at 0x1080ab470>"
      ]
     },
     "metadata": {},
     "output_type": "display_data"
    }
   ],
   "source": [
    "heat = np.zeros(myImg.shape)\n",
    "for i in range(myImg.shape[0]):\n",
    "    for j in range(myImg.shape[1]):\n",
    "        heat[i][j] = v[i * myImg.shape[1] + j]\n",
    "# plt.show()\n",
    "# plt.imshow(myImg)\n",
    "# plt.imshow(heat, cmap='hot', interpolation='nearest')\n",
    "# plt.imshow(heat, cmap='hot', interpolation='nearest', alpha = .65)\n",
    "# plt.savefig('0cc6fc725d4b8818415ddc06823fce98/RW_cropped_superimposed_MiddlePointSeed.eps')"
   ]
  },
  {
   "cell_type": "code",
   "execution_count": 124,
   "metadata": {},
   "outputs": [
    {
     "name": "stdout",
     "output_type": "stream",
     "text": [
      "(140, 156)\n",
      "(660, 512)\n"
     ]
    },
    {
     "data": {
      "image/png": "[encoded data removed]",
      "text/plain": [
       "<matplotlib.figure.Figure at 0x4e1096358>"
      ]
     },
     "metadata": {},
     "output_type": "display_data"
    }
   ],
   "source": [
    "data = rd.read_data(\"0cc6fc725d4b8818415ddc06823fce98/0cc6fc725d4b8818415ddc06823fce98.aps\")\n",
    "img = np.rot90(data[:, :, 0])\n",
    "myImgFull = np.asarray(img, dtype=np.double)\n",
    "heat = np.zeros(myImgFull.shape)\n",
    "for i in range(myImg.shape[0]):\n",
    "    for j in range(myImg.shape[1]):\n",
    "        heat[199 + i][180 + j] = v[i * myImg.shape[1] + j]\n",
    "print(myImg.shape)\n",
    "print(heat.shape)\n",
    "plt.show()\n",
    "plt.imshow(myImgFull)\n",
    "# plt.savefig('0cc6fc725d4b8818415ddc06823fce98/FullImage.eps')\n",
    "plt.imshow(heat, cmap='hot', interpolation='nearest',alpha = .6)\n",
    "plt.savefig('0cc6fc725d4b8818415ddc06823fce98/RW_FullImage.eps')"
   ]
  },
  {
   "cell_type": "code",
   "execution_count": null,
   "metadata": {
    "collapsed": true
   },
   "outputs": [],
   "source": []
  }
 ],
 "metadata": {
  "kernelspec": {
   "display_name": "Python 3",
   "language": "python",
   "name": "python3"
  },
  "language_info": {
   "codemirror_mode": {
    "name": "ipython",
    "version": 3
   },
   "file_extension": ".py",
   "mimetype": "text/x-python",
   "name": "python",
   "nbconvert_exporter": "python",
   "pygments_lexer": "ipython3",
   "version": "3.5.2"
  }
 },
 "nbformat": 4,
 "nbformat_minor": 2
}
