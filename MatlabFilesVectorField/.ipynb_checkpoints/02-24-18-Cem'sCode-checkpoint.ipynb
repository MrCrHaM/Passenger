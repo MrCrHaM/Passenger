{
 "cells": [
  {
   "cell_type": "code",
   "execution_count": 1,
   "metadata": {
    "collapsed": true
   },
   "outputs": [],
   "source": [
    "import re\n",
    "import matplotlib.pyplot as plt\n",
    "import numpy as np\n",
    "import scipy.sparse as sp\n",
    "from scipy.sparse.linalg import bicgstab\n",
    "from scipy import sparse\n",
    "from glob import glob\n",
    "import matplotlib.patches as patches\n",
    "import pandas as pd\n",
    "import math\n",
    "from scipy.misc import imread\n",
    "#import bcolz\n",
    "import time\n",
    "import os\n",
    "import cmath"
   ]
  },
  {
   "cell_type": "code",
   "execution_count": 53,
   "metadata": {
    "collapsed": true
   },
   "outputs": [],
   "source": [
    "def fully_connected_e_neighbour_graph(img, sigma, e):\n",
    "    array = np.array(img)\n",
    "    rowN = np.shape(array)[0]\n",
    "    colN = np.shape(array)[1]\n",
    "    result = np.zeros((rowN * colN, rowN * colN))\n",
    "    for row in range(rowN):\n",
    "        for col in range(colN):\n",
    "            for rowDiff in range(-e, e + 1, 1):\n",
    "                for colDiff in range(-e, e + 1, 1):\n",
    "                    # Avoid self edges\n",
    "                    if rowDiff == 0 and colDiff == 0:\n",
    "                        continue\n",
    "                    if(row + rowDiff < rowN and -1 < row + rowDiff and col + colDiff < colN and -1 < col + colDiff):\n",
    "                        if(rowDiff * rowDiff + colDiff * colDiff <= e * e):\n",
    "                            row2 = row + rowDiff\n",
    "                            col2 = col + colDiff\n",
    "                            weight = math.exp(- math.pow(img[row][col] - img[row2][col2], 2) / (2 * math.pow(sigma, 2)))\n",
    "                            result[row * colN + col][row2 * colN + col2] = weight\n",
    "    # Convert it to sparse matrix\n",
    "    # TODO: Direct initialization as sparse matrix is better\n",
    "    return sp.csr_matrix(result)\n",
    "\n",
    "def laplacian(graph):\n",
    "    # diag = np.diag(sum(graph))\n",
    "    diag = sp.diags((sum(graph)).toarray()[0], 0)\n",
    "    lap = diag - graph\n",
    "    return [lap, diag]\n",
    "\n",
    "def makeChessBoard(WhiteFrameWidth, chessNodeWidth, chessElementNumberPerRow):\n",
    "    size = WhiteFrameWidth * 2 + chessElementNumberPerRow * chessNodeWidth\n",
    "    A = np.zeros((size, size))\n",
    "    for i in range(size - 2 * WhiteFrameWidth):\n",
    "        for j in range(size - 2 * WhiteFrameWidth):\n",
    "            if ((int(i / chessNodeWidth)) + (int(j / chessNodeWidth))) % 2 == 0:\n",
    "                A[WhiteFrameWidth + i][WhiteFrameWidth + j] = 200\n",
    "    return A\n",
    "\n",
    "def starOpt_fast(A, c, gamma, s, k, max_iter):\n",
    "    n = A.shape[0]\n",
    "    A = sp.csr_matrix(A)\n",
    "\n",
    "    [coords_i, coords_j, V] = sp.find(A)\n",
    "    [tri_i, tri_j, V] = sp.find(sp.triu(A))\n",
    "\n",
    "    mapping = triuToFullIdx(coords_i, coords_j, tri_i, tri_j, A)\n",
    "\n",
    "    degs = sp.csr_matrix(np.transpose(sp.csr_matrix.sum(A, 0)))\n",
    "\n",
    "    eta = 5;\n",
    "    p = 2 * (np.dot(np.transpose(c), c)) / gamma;\n",
    "\n",
    "    y = np.random.normal(0,1,(n,k))\n",
    "    y = np.dot(y, pow(p / sp.csr_matrix.sum(np.sum(np.multiply(degs.dot(sp.csr_matrix(np.ones((1,k)))), np.multiply(y, y)))), .5))\n",
    "\n",
    "    u_s = np.zeros((n, max_iter))\n",
    "    grad = sp.csr_matrix(np.zeros((n, n)))\n",
    "\n",
    "    for i in range(max_iter):\n",
    "        ydist = precomputeDists(tri_i, tri_j, mapping, y)\n",
    "    \n",
    "    # TODO: Continue from here...\n",
    "    \n",
    "    return 1\n",
    "\n",
    "def triuToFullIdx(coords_i, coords_j, tri_i, tri_j, A):\n",
    "    # Map each edge in graph to the one in sp.triu(A)\n",
    "    n = A.shape[0]\n",
    "    mapping = np.zeros((coords_i.shape[0], 1), dtype=int)\n",
    "    triIdx = {}\n",
    "    for i in range(len(tri_i)):\n",
    "        triIdx[tri_i[i] * n + tri_j[i]] = i\n",
    "    for i in range(len(coords_i)):\n",
    "        if coords_i[i] < coords_j[i]:\n",
    "            mapping[i] = triIdx[coords_i[i] * n + coords_j[i]]\n",
    "        else:\n",
    "            mapping[i] = triIdx[coords_j[i] * n + coords_i[i]]\n",
    "    return mapping[:,0]\n",
    "\n",
    "def precomputeDists(tri_i, tri_j, mapping, y):\n",
    "    m = len(tri_i)\n",
    "    ydist = np.zeros((m, 1))\n",
    "    for ind in range(m):\n",
    "        ii = tri_i[ind];\n",
    "        jj = tri_j[ind];\n",
    "        ydist[ind] = sum((y[ii,:] - y[jj,:]) ** 2)\n",
    "    ydist = ydist[mapping]\n",
    "    \n",
    "    return ydist\n"
   ]
  },
  {
   "cell_type": "code",
   "execution_count": 56,
   "metadata": {},
   "outputs": [
    {
     "name": "stderr",
     "output_type": "stream",
     "text": [
      "/Library/Frameworks/Python.framework/Versions/3.5/lib/python3.5/site-packages/scipy/sparse/linalg/dsolve/linsolve.py:295: SparseEfficiencyWarning: splu requires CSC matrix format\n",
      "  warn('splu requires CSC matrix format', SparseEfficiencyWarning)\n",
      "/Library/Frameworks/Python.framework/Versions/3.5/lib/python3.5/site-packages/scipy/sparse/linalg/dsolve/linsolve.py:202: SparseEfficiencyWarning: spsolve is more efficient when sparse b is in the CSC matrix format\n",
      "  'is in the CSC matrix format', SparseEfficiencyWarning)\n",
      "/Library/Frameworks/Python.framework/Versions/3.5/lib/python3.5/site-packages/scipy/sparse/linalg/dsolve/linsolve.py:133: SparseEfficiencyWarning: spsolve requires A be CSC or CSR matrix format\n",
      "  SparseEfficiencyWarning)\n"
     ]
    }
   ],
   "source": [
    "img = makeChessBoard(20, 10, 3)\n",
    "sigma = 5\n",
    "e = 2\n",
    "graph = fully_connected_e_neighbour_graph(img, sigma, e)\n",
    "A = graph\n",
    "[L, D] = laplacian(graph)\n",
    "max_iter = 100\n",
    "inverse = sp.linalg.inv(10 * L + sp.csr_matrix(np.identity(graph.shape[0])))\n",
    "proj1 = np.random.normal(0,1,(graph.shape[0],1))\n",
    "c = inverse.dot(proj1)\n",
    "gamma = 1\n",
    "s = 4050\n",
    "k = 1\n",
    "c = (sp.linalg.inv(D)).dot(c)\n",
    "\n",
    "# u_s = starOpt_fast(A, c , gamma, s, k, max_iter)\n",
    "\n",
    "n = A.shape[0]\n",
    "A = sp.csr_matrix(A)\n",
    "\n",
    "[coords_i, coords_j, V] = sp.find(A)\n",
    "[tri_i, tri_j, V] = sp.find(sp.triu(A))\n",
    "\n",
    "mapping = triuToFullIdx(coords_i, coords_j, tri_i, tri_j, A)\n",
    "\n",
    "degs = sp.csr_matrix(np.transpose(sp.csr_matrix.sum(A, 0)))\n",
    "\n",
    "eta = 5;\n",
    "p = 2 * (np.dot(np.transpose(c), c)) / gamma;\n",
    "\n",
    "y = np.random.normal(0,1,(n,k))\n",
    "y = np.dot(y, pow(p / sp.csr_matrix.sum(np.sum(np.multiply(degs.dot(sp.csr_matrix(np.ones((1,k)))), np.multiply(y, y)))), .5))\n",
    "\n",
    "u_s = np.zeros((n, max_iter))\n",
    "grad = sp.csr_matrix(np.zeros((n, n)))\n",
    "\n",
    "for i in range(max_iter):\n",
    "    ydist = precomputeDists(tri_i, tri_j, mapping, y)"
   ]
  },
  {
   "cell_type": "code",
   "execution_count": null,
   "metadata": {
    "collapsed": true
   },
   "outputs": [],
   "source": []
  },
  {
   "cell_type": "code",
   "execution_count": null,
   "metadata": {
    "collapsed": true
   },
   "outputs": [],
   "source": []
  },
  {
   "cell_type": "code",
   "execution_count": null,
   "metadata": {
    "collapsed": true
   },
   "outputs": [],
   "source": []
  },
  {
   "cell_type": "code",
   "execution_count": null,
   "metadata": {
    "collapsed": true
   },
   "outputs": [],
   "source": []
  },
  {
   "cell_type": "code",
   "execution_count": 8,
   "metadata": {},
   "outputs": [
    {
     "name": "stdout",
     "output_type": "stream",
     "text": [
      "[[-0.11331884 -0.20209824]\n",
      " [ 0.12620653  0.22509156]]\n"
     ]
    },
    {
     "name": "stderr",
     "output_type": "stream",
     "text": [
      "/Library/Frameworks/Python.framework/Versions/3.5/lib/python3.5/site-packages/scipy/sparse/linalg/dsolve/linsolve.py:295: SparseEfficiencyWarning: splu requires CSC matrix format\n",
      "  warn('splu requires CSC matrix format', SparseEfficiencyWarning)\n",
      "/Library/Frameworks/Python.framework/Versions/3.5/lib/python3.5/site-packages/scipy/sparse/linalg/dsolve/linsolve.py:202: SparseEfficiencyWarning: spsolve is more efficient when sparse b is in the CSC matrix format\n",
      "  'is in the CSC matrix format', SparseEfficiencyWarning)\n",
      "/Library/Frameworks/Python.framework/Versions/3.5/lib/python3.5/site-packages/scipy/sparse/linalg/dsolve/linsolve.py:133: SparseEfficiencyWarning: spsolve requires A be CSC or CSR matrix format\n",
      "  SparseEfficiencyWarning)\n"
     ]
    }
   ],
   "source": [
    "A = np.array([[0, 2], [3, 0]])\n",
    "sigma = 5\n",
    "e = 2\n",
    "graph = fully_connected_e_neighbour_graph(A, sigma, e)\n",
    "[L, D] = laplacian(graph)\n",
    "gamma = 1\n",
    "s = 2000\n",
    "k = 2\n",
    "max_iter = 500\n",
    "inverse = sp.linalg.inv(10 * L + sp.csr_matrix(np.identity(graph.shape[0])))\n",
    "proj = np.random.normal(0,1,(graph.shape[0],2))\n",
    "field = inverse.dot(proj)\n",
    "c = (sp.linalg.inv(D)).dot(field)\n",
    "\n",
    "\n",
    "\n",
    "\n",
    "n = A.shape[0]\n",
    "A = sp.csr_matrix(A)\n",
    "\n",
    "[coords_i, coords_j, V] = sp.find(A)\n",
    "[tri_i, tri_j, V] = sp.find(sp.triu(A))\n",
    "\n",
    "mapping = triuToFullIdx(coords_i, coords_j, tri_i, tri_j, A)\n",
    "\n",
    "degs = sp.csr_matrix(np.transpose(sp.csr_matrix.sum(A, 0)))\n",
    "\n",
    "eta = 5;\n",
    "p = 2 * (np.dot(np.transpose(c), c)) / gamma;\n",
    "y = np.random.normal(0,1,(n,k))\n",
    "\n",
    "y = np.dot(y, pow(p / sp.csr_matrix.sum(np.sum(np.multiply(degs.dot(sp.csr_matrix(np.ones((1,k)))), np.multiply(y, y)))), .5))\n",
    "print(y)\n",
    "# y can have some imaginary numbers so it says nan...\n",
    "# u_s = starOpt_fast(graph, c, gamma, s, k, max_iter)"
   ]
  },
  {
   "cell_type": "code",
   "execution_count": null,
   "metadata": {
    "collapsed": true
   },
   "outputs": [],
   "source": []
  }
 ],
 "metadata": {
  "kernelspec": {
   "display_name": "Python 3",
   "language": "python",
   "name": "python3"
  },
  "language_info": {
   "codemirror_mode": {
    "name": "ipython",
    "version": 3
   },
   "file_extension": ".py",
   "mimetype": "text/x-python",
   "name": "python",
   "nbconvert_exporter": "python",
   "pygments_lexer": "ipython3",
   "version": "3.5.2"
  }
 },
 "nbformat": 4,
 "nbformat_minor": 2
}
