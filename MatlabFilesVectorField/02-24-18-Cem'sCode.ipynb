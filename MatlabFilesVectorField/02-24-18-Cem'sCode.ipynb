{
 "cells": [
  {
   "cell_type": "code",
   "execution_count": 191,
   "metadata": {
    "collapsed": true
   },
   "outputs": [],
   "source": [
    "import re\n",
    "import matplotlib.pyplot as plt\n",
    "import numpy as np\n",
    "import scipy.sparse as sp\n",
    "from scipy.sparse.linalg import bicgstab\n",
    "from scipy import sparse\n",
    "from glob import glob\n",
    "import matplotlib.patches as patches\n",
    "import pandas as pd\n",
    "import math\n",
    "from scipy.misc import imread\n",
    "#import bcolz\n",
    "import time\n",
    "import os\n",
    "import cmath"
   ]
  },
  {
   "cell_type": "code",
   "execution_count": 192,
   "metadata": {},
   "outputs": [],
   "source": [
    "def fully_connected_e_neighbour_graph(img, sigma, e):\n",
    "    array = np.array(img)\n",
    "    rowN = np.shape(array)[0]\n",
    "    colN = np.shape(array)[1]\n",
    "    result = np.zeros((rowN * colN, rowN * colN))\n",
    "    for row in range(rowN):\n",
    "        for col in range(colN):\n",
    "            for rowDiff in range(-e, e + 1, 1):\n",
    "                for colDiff in range(-e, e + 1, 1):\n",
    "                    # Avoid self edges\n",
    "                    if rowDiff == 0 and colDiff == 0:\n",
    "                        continue\n",
    "                    if(row + rowDiff < rowN and -1 < row + rowDiff and col + colDiff < colN and -1 < col + colDiff):\n",
    "                        if(rowDiff * rowDiff + colDiff * colDiff <= e * e):\n",
    "                            row2 = row + rowDiff\n",
    "                            col2 = col + colDiff\n",
    "                            weight = math.exp(- math.pow(img[row][col] - img[row2][col2], 2) / (2 * math.pow(sigma, 2)))\n",
    "                            result[row * colN + col][row2 * colN + col2] = weight\n",
    "    # Convert it to sparse matrix\n",
    "    # TODO: Direct initialization as sparse matrix is better\n",
    "    return sp.csr_matrix(result)\n",
    "\n",
    "def laplacian(graph):\n",
    "    # diag = np.diag(sum(graph))\n",
    "    diag = sp.diags((sum(graph)).toarray()[0], 0)\n",
    "    lap = diag - graph\n",
    "    return [lap, diag]\n",
    "\n",
    "def makeChessBoard(WhiteFrameWidth, chessNodeWidth, chessElementNumberPerRow):\n",
    "    size = WhiteFrameWidth * 2 + chessElementNumberPerRow * chessNodeWidth\n",
    "    A = np.zeros((size, size))\n",
    "    for i in range(size - 2 * WhiteFrameWidth):\n",
    "        for j in range(size - 2 * WhiteFrameWidth):\n",
    "            if ((int(i / chessNodeWidth)) + (int(j / chessNodeWidth))) % 2 == 0:\n",
    "                A[WhiteFrameWidth + i][WhiteFrameWidth + j] = 200\n",
    "    return A\n",
    "\n",
    "def starOpt_fast(graph, c, gamma, s, k, max_iter):\n",
    "    n = graph.shape[0]\n",
    "    graph = sp.csr_matrix(graph)\n",
    "    \n",
    "    [coords_i, coords_j, V] = sp.find(graph)\n",
    "    [tri_i, tri_j, V] = sp.find(sp.triu(graph))\n",
    "    \n",
    "    mapping = triuToFullIdx(coords_i, coords_j, tri_i, tri_j, graph)\n",
    "    \n",
    "    degs = sp.csr_matrix(np.transpose(sp.csr_matrix.sum(graph, 0)))\n",
    "    \n",
    "    eta = 5;\n",
    "    p = 2 * (np.dot(np.transpose(c), c)) / gamma;\n",
    "    \n",
    "    # TODO: Continue from here...\n",
    "    \n",
    "    return 1\n",
    "\n",
    "def triuToFullIdx(coords_i, coords_j, tri_i, tri_j, graph):\n",
    "    # Map each edge in graph to the one in sp.triu(graph)\n",
    "    n = graph.shape[0]\n",
    "    mapping = np.zeros((coords_i.shape[0], 1))\n",
    "    triIdx = {}\n",
    "    for i in range(len(tri_i)):\n",
    "        triIdx[tri_i[i] * n + tri_j[i]] = i\n",
    "    for i in range(len(coords_i)):\n",
    "        if coords_i[i] < coords_j[i]:\n",
    "            mapping[i] = triIdx[coords_i[i] * n + coords_j[i]]\n",
    "        else:\n",
    "            mapping[i] = triIdx[coords_j[i] * n + coords_i[i]]\n",
    "    return mapping\n",
    "        "
   ]
  },
  {
   "cell_type": "code",
   "execution_count": 193,
   "metadata": {},
   "outputs": [
    {
     "name": "stdout",
     "output_type": "stream",
     "text": [
      "[[0.         0.92311635 0.83527021 1.        ]\n",
      " [0.92311635 0.         0.98019867 0.92311635]\n",
      " [0.83527021 0.98019867 0.         0.83527021]\n",
      " [1.         0.92311635 0.83527021 0.        ]]\n",
      "[[nan nan]\n",
      " [nan nan]\n",
      " [nan nan]\n",
      " [nan nan]]\n"
     ]
    },
    {
     "name": "stderr",
     "output_type": "stream",
     "text": [
      "/Library/Frameworks/Python.framework/Versions/3.5/lib/python3.5/site-packages/scipy/sparse/linalg/dsolve/linsolve.py:295: SparseEfficiencyWarning: splu requires CSC matrix format\n",
      "  warn('splu requires CSC matrix format', SparseEfficiencyWarning)\n",
      "/Library/Frameworks/Python.framework/Versions/3.5/lib/python3.5/site-packages/scipy/sparse/linalg/dsolve/linsolve.py:202: SparseEfficiencyWarning: spsolve is more efficient when sparse b is in the CSC matrix format\n",
      "  'is in the CSC matrix format', SparseEfficiencyWarning)\n",
      "/Library/Frameworks/Python.framework/Versions/3.5/lib/python3.5/site-packages/scipy/sparse/linalg/dsolve/linsolve.py:133: SparseEfficiencyWarning: spsolve requires A be CSC or CSR matrix format\n",
      "  SparseEfficiencyWarning)\n",
      "/Library/Frameworks/Python.framework/Versions/3.5/lib/python3.5/site-packages/ipykernel_launcher.py:23: RuntimeWarning: invalid value encountered in sqrt\n"
     ]
    }
   ],
   "source": [
    "A = np.array([[0, 2], [3, 0]])\n",
    "sigma = 5\n",
    "e = 2\n",
    "graph = fully_connected_e_neighbour_graph(A, sigma, e)\n",
    "[L, D] = laplacian(graph)\n",
    "gamma = 1\n",
    "s = 2000\n",
    "k = 2\n",
    "max_iter = 500\n",
    "inverse = sp.linalg.inv(10 * L + sp.csr_matrix(np.identity(graph.shape[0])))\n",
    "proj = np.random.normal(0,1,(graph.shape[0],2))\n",
    "field = inverse.dot(proj)\n",
    "c = (sp.linalg.inv(D)).dot(field)\n",
    "\n",
    "n = graph.shape[0]\n",
    "print(graph.toarray())\n",
    "degs = (sp.csr_matrix(np.transpose(sp.csr_matrix.sum(graph, 0))))\n",
    "eta = 5;\n",
    "p = 2 * (np.dot(np.transpose(c), c)) / gamma;\n",
    "\n",
    "y = np.random.normal(0,1,(n,k))\n",
    "\n",
    "y = np.dot(y, pow(p / sp.csr_matrix.sum(np.sum(np.multiply(degs.dot(sp.csr_matrix(np.ones((1,k)))), np.multiply(y, y)))), .5))\n",
    "print(y)\n",
    "# y can have some imaginary numbers so it says nan...\n",
    "# u_s = starOpt_fast(graph, c, gamma, s, k, max_iter)"
   ]
  },
  {
   "cell_type": "code",
   "execution_count": 194,
   "metadata": {},
   "outputs": [
    {
     "name": "stdout",
     "output_type": "stream",
     "text": [
      "[[0.         0.92311635 0.83527021 1.        ]\n",
      " [0.92311635 0.         0.98019867 0.92311635]\n",
      " [0.83527021 0.98019867 0.         0.83527021]\n",
      " [1.         0.92311635 0.83527021 0.        ]]\n",
      "[[ 9.57007804e-05 -4.37672545e-05]\n",
      " [-4.37672545e-05  2.45604118e-05]]\n"
     ]
    }
   ],
   "source": [
    "A = np.array([[0, 2], [3, 0]])\n",
    "sigma = 5\n",
    "e = 2\n",
    "k = 2\n",
    "graph = fully_connected_e_neighbour_graph(A, sigma, e)\n",
    "n = graph.shape[0]\n",
    "print(graph.toarray())\n",
    "degs = (sp.csr_matrix(np.transpose(sp.csr_matrix.sum(graph, 0))))\n",
    "eta = 5;\n",
    "p = 2 * (np.dot(np.transpose(c), c)) / gamma;\n",
    "y = np.random.normal(0,1,(n,k))\n",
    "print(p / sp.csr_matrix.sum(np.sum(np.multiply(degs.dot(sp.csr_matrix(np.ones((1,k)))), np.multiply(y, y)))))"
   ]
  },
  {
   "cell_type": "code",
   "execution_count": null,
   "metadata": {
    "collapsed": true
   },
   "outputs": [],
   "source": []
  }
 ],
 "metadata": {
  "kernelspec": {
   "display_name": "Python 3",
   "language": "python",
   "name": "python3"
  },
  "language_info": {
   "codemirror_mode": {
    "name": "ipython",
    "version": 3
   },
   "file_extension": ".py",
   "mimetype": "text/x-python",
   "name": "python",
   "nbconvert_exporter": "python",
   "pygments_lexer": "ipython3",
   "version": "3.5.2"
  }
 },
 "nbformat": 4,
 "nbformat_minor": 2
}
